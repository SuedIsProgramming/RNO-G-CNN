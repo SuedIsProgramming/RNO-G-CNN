{
 "cells": [
  {
   "cell_type": "code",
   "execution_count": 1,
   "metadata": {},
   "outputs": [],
   "source": [
    "import torch\n",
    "import torch.nn as nn\n",
    "import torch.optim as optim\n",
    "import numpy as np\n",
    "import matplotlib.pyplot as plt"
   ]
  },
  {
   "cell_type": "code",
   "execution_count": 21,
   "metadata": {},
   "outputs": [
    {
     "name": "stdout",
     "output_type": "stream",
     "text": [
      "[ 0  1  2  3  4  5  6  7  8  9 10 11 12 13 14 15 16 17 18 19 20 21 22 23\n",
      " 24 25 26 27 28 29 30 31 32 33 34 35 36 37 38 39 40 41 42 43 44 45 46 47\n",
      " 48 49 50 51 52 53 54 55 56 57 58 59 60 61 62 63 64 65 66 67 68 69 70 71\n",
      " 72 73 74 75 76 77 78 79 80 81 82 83 84 85 86 87 88 89 90 91 92 93 94 95\n",
      " 96 97 98 99]\n",
      "[[ 0]\n",
      " [ 1]\n",
      " [ 2]\n",
      " [ 3]\n",
      " [ 4]\n",
      " [ 5]\n",
      " [ 6]\n",
      " [ 7]\n",
      " [ 8]\n",
      " [ 9]\n",
      " [10]\n",
      " [11]\n",
      " [12]\n",
      " [13]\n",
      " [14]\n",
      " [15]\n",
      " [16]\n",
      " [17]\n",
      " [18]\n",
      " [19]\n",
      " [20]\n",
      " [21]\n",
      " [22]\n",
      " [23]\n",
      " [24]\n",
      " [25]\n",
      " [26]\n",
      " [27]\n",
      " [28]\n",
      " [29]\n",
      " [30]\n",
      " [31]\n",
      " [32]\n",
      " [33]\n",
      " [34]\n",
      " [35]\n",
      " [36]\n",
      " [37]\n",
      " [38]\n",
      " [39]\n",
      " [40]\n",
      " [41]\n",
      " [42]\n",
      " [43]\n",
      " [44]\n",
      " [45]\n",
      " [46]\n",
      " [47]\n",
      " [48]\n",
      " [49]\n",
      " [50]\n",
      " [51]\n",
      " [52]\n",
      " [53]\n",
      " [54]\n",
      " [55]\n",
      " [56]\n",
      " [57]\n",
      " [58]\n",
      " [59]\n",
      " [60]\n",
      " [61]\n",
      " [62]\n",
      " [63]\n",
      " [64]\n",
      " [65]\n",
      " [66]\n",
      " [67]\n",
      " [68]\n",
      " [69]\n",
      " [70]\n",
      " [71]\n",
      " [72]\n",
      " [73]\n",
      " [74]\n",
      " [75]\n",
      " [76]\n",
      " [77]\n",
      " [78]\n",
      " [79]\n",
      " [80]\n",
      " [81]\n",
      " [82]\n",
      " [83]\n",
      " [84]\n",
      " [85]\n",
      " [86]\n",
      " [87]\n",
      " [88]\n",
      " [89]\n",
      " [90]\n",
      " [91]\n",
      " [92]\n",
      " [93]\n",
      " [94]\n",
      " [95]\n",
      " [96]\n",
      " [97]\n",
      " [98]\n",
      " [99]]\n"
     ]
    }
   ],
   "source": [
    "X = np.array([x for x in range(100)])\n",
    "print(X)\n",
    "X = X.reshape(-1,1) # Reshapes array into 100 rows in 1 column. (The -1 just means Infer the size of the column, could have written .reshape(100,1))\n",
    "print(X)"
   ]
  },
  {
   "cell_type": "code",
   "execution_count": 22,
   "metadata": {},
   "outputs": [
    {
     "name": "stdout",
     "output_type": "stream",
     "text": [
      "[ 46  48  50  52  54  56  58  60  62  64  66  68  70  72  74  76  78  80\n",
      "  82  84  86  88  90  92  94  96  98 100 102 104 106 108 110 112 114 116\n",
      " 118 120 122 124 126 128 130 132 134 136 138 140 142 144 146 148 150 152\n",
      " 154 156 158 160 162 164 166 168 170 172 174 176 178 180 182 184 186 188\n",
      " 190 192 194 196 198 200 202 204 206 208 210 212 214 216 218 220 222 224\n",
      " 226 228 230 232 234 236 238 240 242 244]\n"
     ]
    }
   ],
   "source": [
    "y = 46 + 2 * X.flatten() # Flatten returns it to a 1 row array of 100 columns.\n",
    "print(y)"
   ]
  },
  {
   "cell_type": "code",
   "execution_count": 27,
   "metadata": {},
   "outputs": [
    {
     "data": {
      "image/png": "[encoded data removed]",
      "text/plain": [
       "<Figure size 640x480 with 1 Axes>"
      ]
     },
     "metadata": {},
     "output_type": "display_data"
    }
   ],
   "source": [
    "plt.scatter(X,y,label = 'Inital Data')\n",
    "plt.title('Pre pytorch')\n",
    "plt.xlabel('X')\n",
    "plt.ylabel('y')\n",
    "plt.legend()\n",
    "plt.show()"
   ]
  },
  {
   "cell_type": "code",
   "execution_count": 34,
   "metadata": {},
   "outputs": [
    {
     "name": "stdout",
     "output_type": "stream",
     "text": [
      "torch.Size([100, 1])\n"
     ]
    }
   ],
   "source": [
    "# We should normalize the data:\n",
    "x_mean, x_std = X.mean(), X.std()\n",
    "X_normalized = (X-x_mean)/x_std\n",
    "X_tensor = torch.tensor(X_normalized,dtype=torch.float32)\n",
    "print(X_tensor.shape)"
   ]
  },
  {
   "cell_type": "code",
   "execution_count": 35,
   "metadata": {},
   "outputs": [
    {
     "name": "stdout",
     "output_type": "stream",
     "text": [
      "torch.Size([100])\n"
     ]
    }
   ],
   "source": [
    "y_mean, y_std = y.mean(), y.std()\n",
    "y_normalized = (y-y_mean)/y_std\n",
    "y_tensor = torch.tensor(y_normalized,dtype=torch.float32)\n",
    "print(y_tensor.shape)"
   ]
  },
  {
   "cell_type": "code",
   "execution_count": 37,
   "metadata": {},
   "outputs": [],
   "source": [
    "class LinearRegressionModel(nn.Module): # Inherits nn.Module\n",
    "    def __init__(self, in_features, out_features):\n",
    "        super().__init__()\n",
    "        self.linear = nn.Linear(in_features,out_features)\n",
    "\n",
    "    def forward(self,x):\n",
    "        return self.linear(x).squeeze(1) # squeeze(1) guarantees a 1 dimensional output."
   ]
  },
  {
   "cell_type": "code",
   "execution_count": 38,
   "metadata": {},
   "outputs": [],
   "source": [
    "in_features = 1\n",
    "out_features = 1\n",
    "model = LinearRegressionModel(in_features,out_features)"
   ]
  },
  {
   "cell_type": "code",
   "execution_count": 40,
   "metadata": {},
   "outputs": [],
   "source": [
    "criterion = nn.MSELoss() # Mean-Square-Error for error formula.\n",
    "optimizer = optim.SGD(model.parameters(), lr=0.1) \n",
    "# SGD: parameter = parameter - (learning rate * gradient)"
   ]
  },
  {
   "cell_type": "code",
   "execution_count": 48,
   "metadata": {},
   "outputs": [],
   "source": [
    "num_epochs = 50 # Number of times we will run our model."
   ]
  },
  {
   "cell_type": "code",
   "execution_count": 49,
   "metadata": {},
   "outputs": [
    {
     "name": "stdout",
     "output_type": "stream",
     "text": [
      "Epoch[1/50], Loss: 0.00\n",
      "Epoch[2/50], Loss: 0.00\n",
      "Epoch[3/50], Loss: 0.00\n",
      "Epoch[4/50], Loss: 0.00\n",
      "Epoch[5/50], Loss: 0.00\n",
      "Epoch[6/50], Loss: 0.00\n",
      "Epoch[7/50], Loss: 0.00\n",
      "Epoch[8/50], Loss: 0.00\n",
      "Epoch[9/50], Loss: 0.00\n",
      "Epoch[10/50], Loss: 0.00\n",
      "Epoch[11/50], Loss: 0.00\n",
      "Epoch[12/50], Loss: 0.00\n",
      "Epoch[13/50], Loss: 0.00\n",
      "Epoch[14/50], Loss: 0.00\n",
      "Epoch[15/50], Loss: 0.00\n",
      "Epoch[16/50], Loss: 0.00\n",
      "Epoch[17/50], Loss: 0.00\n",
      "Epoch[18/50], Loss: 0.00\n",
      "Epoch[19/50], Loss: 0.00\n",
      "Epoch[20/50], Loss: 0.00\n",
      "Epoch[21/50], Loss: 0.00\n",
      "Epoch[22/50], Loss: 0.00\n",
      "Epoch[23/50], Loss: 0.00\n",
      "Epoch[24/50], Loss: 0.00\n",
      "Epoch[25/50], Loss: 0.00\n",
      "Epoch[26/50], Loss: 0.00\n",
      "Epoch[27/50], Loss: 0.00\n",
      "Epoch[28/50], Loss: 0.00\n",
      "Epoch[29/50], Loss: 0.00\n",
      "Epoch[30/50], Loss: 0.00\n",
      "Epoch[31/50], Loss: 0.00\n",
      "Epoch[32/50], Loss: 0.00\n",
      "Epoch[33/50], Loss: 0.00\n",
      "Epoch[34/50], Loss: 0.00\n",
      "Epoch[35/50], Loss: 0.00\n",
      "Epoch[36/50], Loss: 0.00\n",
      "Epoch[37/50], Loss: 0.00\n",
      "Epoch[38/50], Loss: 0.00\n",
      "Epoch[39/50], Loss: 0.00\n",
      "Epoch[40/50], Loss: 0.00\n",
      "Epoch[41/50], Loss: 0.00\n",
      "Epoch[42/50], Loss: 0.00\n",
      "Epoch[43/50], Loss: 0.00\n",
      "Epoch[44/50], Loss: 0.00\n",
      "Epoch[45/50], Loss: 0.00\n",
      "Epoch[46/50], Loss: 0.00\n",
      "Epoch[47/50], Loss: 0.00\n",
      "Epoch[48/50], Loss: 0.00\n",
      "Epoch[49/50], Loss: 0.00\n",
      "Epoch[50/50], Loss: 0.00\n"
     ]
    }
   ],
   "source": [
    "for epoch in range(num_epochs): # Standard formatting in pytorch\n",
    "\n",
    "    # Forward pass:\n",
    "    outputs = model(X_tensor)\n",
    "\n",
    "    # Calculate loss:\n",
    "    loss = criterion(outputs,y_tensor)\n",
    "\n",
    "    # Backward pass and optimization:\n",
    "    optimizer.zero_grad() # Clear gradient\n",
    "    loss.backward() # Compute gradient\n",
    "    optimizer.step() # Update weights.\n",
    "\n",
    "    print(f'Epoch[{epoch + 1}/{num_epochs}], Loss: {loss.item():.2f}')"
   ]
  },
  {
   "cell_type": "code",
   "execution_count": 50,
   "metadata": {},
   "outputs": [
    {
     "name": "stdout",
     "output_type": "stream",
     "text": [
      "predicted value for X = 121: 287.9999920183898\n"
     ]
    }
   ],
   "source": [
    "# I believe we are testing now?\n",
    "\n",
    "new_x = 121\n",
    "\n",
    "new_x_normalized = (new_x - x_mean)/ x_std\n",
    "\n",
    "new_x_tensor = torch.tensor(new_x_normalized, dtype=torch.float32).view(1,-1) \n",
    "\n",
    "model.eval() # Put model into evaluation mode.\n",
    "with torch.no_grad(): # We dont need gradient calculation. A LOT FASTER?\n",
    "    prediction_normalized = model(new_x_tensor)\n",
    "\n",
    "prediction_denormalized = prediction_normalized.item() * y_std + y_mean # Denormalizes data.    \n",
    "\n",
    "print(f'predicted value for X = {new_x}: {prediction_denormalized}')"
   ]
  }
 ],
 "metadata": {
  "kernelspec": {
   "display_name": "Python 3",
   "language": "python",
   "name": "python3"
  },
  "language_info": {
   "codemirror_mode": {
    "name": "ipython",
    "version": 3
   },
   "file_extension": ".py",
   "mimetype": "text/x-python",
   "name": "python",
   "nbconvert_exporter": "python",
   "pygments_lexer": "ipython3",
   "version": "3.12.4"
  }
 },
 "nbformat": 4,
 "nbformat_minor": 2
}
