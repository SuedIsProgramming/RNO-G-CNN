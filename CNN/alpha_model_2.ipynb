{
 "cells": [
  {
   "cell_type": "code",
   "execution_count": 92,
   "metadata": {},
   "outputs": [],
   "source": [
    "from pathlib import Path\n",
    "import pickle\n",
    "import sys\n",
    "\n",
    "sys.path.append('/data/condor_shared/users/ssued/RNOGCnn')\n",
    "import utils\n",
    "\n",
    "data_path = Path(\"data/\")\n",
    "event_path = data_path / 'eventbatch_k'\n",
    "\n",
    "eventbatch = utils.obtain_evb('eventbatch.pkl')"
   ]
  },
  {
   "cell_type": "code",
   "execution_count": 93,
   "metadata": {},
   "outputs": [
    {
     "data": {
      "text/plain": [
       "'2.5.1+cu124'"
      ]
     },
     "execution_count": 93,
     "metadata": {},
     "output_type": "execute_result"
    }
   ],
   "source": [
    "torch.cuda.is_available()\n",
    "torch.__version__"
   ]
  },
  {
   "cell_type": "code",
   "execution_count": 94,
   "metadata": {},
   "outputs": [
    {
     "name": "stdout",
     "output_type": "stream",
     "text": [
      "Size of train_eventbatch = 52912\n",
      "Size of test_eventbatch = 17638\n"
     ]
    }
   ],
   "source": [
    "# Split the eventbatch_k into 75% training and 25% testing\n",
    "# Calculate the split index\n",
    "split_index = int(len(eventbatch) * 0.75)\n",
    "\n",
    "# Split the eventbatch_k into 75% training and 25% testing\n",
    "train_eventbatch = dict(list(eventbatch.items())[:split_index])\n",
    "test_eventbatch = dict(list(eventbatch.items())[split_index:])\n",
    "\n",
    "print(f'Size of train_eventbatch = {len(train_eventbatch.keys())}')\n",
    "print(f'Size of test_eventbatch = {len(test_eventbatch.keys())}')"
   ]
  },
  {
   "cell_type": "markdown",
   "metadata": {},
   "source": [
    "For really small n-event testing"
   ]
  },
  {
   "cell_type": "code",
   "execution_count": 95,
   "metadata": {},
   "outputs": [],
   "source": [
    "# train_eventbatch = dict(list(eventbatch.items())[:3])\n",
    "# test_eventbatch = dict(list(eventbatch.items())[3:4])"
   ]
  },
  {
   "cell_type": "code",
   "execution_count": 96,
   "metadata": {},
   "outputs": [],
   "source": [
    "# Prepare data into DataLoader\n",
    "from torch.utils.data import DataLoader\n",
    "\n",
    "train_data = utils.EventtoData(train_eventbatch,normalize=False)\n",
    "test_data = utils.EventtoData(test_eventbatch,normalize=False)\n",
    "\n",
    "BATCH_SIZE = 32 # Small batch size just to test batch size feature\n",
    "\n",
    "train_data_loader = DataLoader(dataset = train_data, batch_size = BATCH_SIZE, shuffle=False)\n",
    "test_data_loader = DataLoader(dataset = test_data, batch_size = BATCH_SIZE, shuffle = False)"
   ]
  },
  {
   "cell_type": "code",
   "execution_count": 97,
   "metadata": {},
   "outputs": [],
   "source": [
    "from torch import nn\n",
    "# Let there be light!\n",
    "    \n",
    "class RNOG_CNN_alpha_1(nn.Module):\n",
    "\n",
    "    def __init__(self,input_shape: int, hidden_units: int, output_shape: int, batch_size: int, num_epochs: int, train_n: int, test_n: int):\n",
    "        super().__init__()\n",
    "        #KERNEL_HEIGHT = 4\n",
    "        #KERNEL_WIDTH = 25\n",
    "        #KERNEL_SIZE = (KERNEL_HEIGHT,KERNEL_WIDTH)\n",
    "        self.batch_size = batch_size\n",
    "        self.num_epochs = num_epochs\n",
    "        self.train_n = train_n\n",
    "        self.test_n = test_n\n",
    "\n",
    "        self.conv_block_1=nn.Sequential(\n",
    "            nn.Conv2d(in_channels=input_shape,\n",
    "                      out_channels=output_shape,\n",
    "                      kernel_size=(4,25),\n",
    "                      stride=1))\n",
    "            # nn.Conv2d(in_channels=hidden_units,\n",
    "            #           out_channels=output_shape,\n",
    "            #           kernel_size=(2,14),\n",
    "            #           stride=1),)\n",
    "\n",
    "    def forward(self,x):\n",
    "        x = self.conv_block_1(x)\n",
    "        return x"
   ]
  },
  {
   "cell_type": "code",
   "execution_count": 98,
   "metadata": {},
   "outputs": [],
   "source": [
    "# from torchinfo import summary\n",
    "# model_test = RNOG_CNN_alpha_1(1,10,1)\n",
    "\n",
    "# summary(model_test, input_size=[1, 1, 4, 25]) # do a test pass through of an example input size"
   ]
  },
  {
   "cell_type": "code",
   "execution_count": 99,
   "metadata": {},
   "outputs": [
    {
     "data": {
      "text/plain": [
       "'cpu'"
      ]
     },
     "execution_count": 99,
     "metadata": {},
     "output_type": "execute_result"
    }
   ],
   "source": [
    "# Setup device agnostic code\n",
    "import torch\n",
    "device = \"cuda\" if torch.cuda.is_available() else \"cpu\"\n",
    "device"
   ]
  },
  {
   "cell_type": "code",
   "execution_count": 100,
   "metadata": {},
   "outputs": [
    {
     "name": "stdout",
     "output_type": "stream",
     "text": [
      "tensor(3.5714)\n",
      "tensor(3.3798)\n"
     ]
    }
   ],
   "source": [
    "import numpy as np\n",
    "\n",
    "_,train_snr = next(iter(train_data_loader))\n",
    "_,test_snr = next(iter(test_data_loader))\n",
    "\n",
    "\n",
    "print(torch.mean(train_snr))\n",
    "print(torch.mean(test_snr))"
   ]
  },
  {
   "cell_type": "code",
   "execution_count": 101,
   "metadata": {},
   "outputs": [],
   "source": [
    "# Train_step function:\n",
    "\n",
    "def train_step(model: torch.nn.Module, \n",
    "               dataloader: torch.utils.data.DataLoader, \n",
    "               loss_fn: torch.nn.Module, \n",
    "               optimizer: torch.optim.Optimizer):\n",
    "    # Put model in train mode\n",
    "    model.train()\n",
    "    \n",
    "    # Setup train loss\n",
    "    #train_loss = 0\n",
    "    train_loss_arr = []\n",
    "    \n",
    "    # Loop through data loader data batches\n",
    "    for batch, (X, y) in enumerate(dataloader):\n",
    "        # Send data to target device\n",
    "        X, y = X.to(device), y.to(device)\n",
    "\n",
    "        # 1. Forward pass\n",
    "        y_pred = model(X)\n",
    "        y = y.view_as(y_pred)\n",
    "\n",
    "        # 2. Calculate and accumulate loss\n",
    "        loss = loss_fn(y_pred, y)\n",
    "        #train_loss += loss.item()\n",
    "        train_loss_arr.append(loss)\n",
    "\n",
    "        # 3. Optimizer zero grad\n",
    "        optimizer.zero_grad()\n",
    "\n",
    "        # 4. Loss backward\n",
    "        loss.backward()\n",
    "\n",
    "        # 5. Optimizer step\n",
    "        optimizer.step()\n",
    "\n",
    "    # Adjust metrics to get average loss per batch\n",
    "    #train_loss = train_loss / len(dataloader)\n",
    "    train_loss = sum(train_loss_arr)/len(train_loss_arr)\n",
    "\n",
    "    return train_loss"
   ]
  },
  {
   "cell_type": "code",
   "execution_count": 102,
   "metadata": {},
   "outputs": [],
   "source": [
    "# Test step function:\n",
    "\n",
    "def test_step(model: torch.nn.Module, \n",
    "              dataloader: torch.utils.data.DataLoader, \n",
    "              loss_fn: torch.nn.Module):\n",
    "    # Put model in eval mode\n",
    "    model.eval() \n",
    "    \n",
    "    # Setup test loss and test values\n",
    "    #test_loss = 0\n",
    "    test_loss_arr = []\n",
    "\n",
    "    # Turn on inference context manager\n",
    "    with torch.inference_mode():\n",
    "        # Loop through DataLoader batches\n",
    "        for batch, (X, y) in enumerate(dataloader):\n",
    "            # Send data to target device\n",
    "            X, y = X.to(device), y.to(device)\n",
    "\n",
    "            # 1. Forward pass\n",
    "            y_pred = model(X)\n",
    "            y = y.view_as(y_pred)\n",
    "\n",
    "            # 2. Calculate and accumulate loss\n",
    "            loss = loss_fn(y_pred, y)\n",
    "            #test_loss += loss.item()\n",
    "            test_loss_arr.append(loss)\n",
    "\n",
    "            #print(f'For batch: {batch} || in test_loss, max test loss: {max(test_loss_arr)}, arr_len: {len(test_loss_arr)}') # For debugging        \n",
    "\n",
    "    # Adjust metrics to get average loss per batch \n",
    "    #test_loss = test_loss / len(dataloader)\n",
    "    test_loss = np.average(test_loss_arr)\n",
    "\n",
    "    return test_loss"
   ]
  },
  {
   "cell_type": "code",
   "execution_count": 103,
   "metadata": {},
   "outputs": [],
   "source": [
    "# Train function (Combines both steps)\n",
    "\n",
    "from torch.optim.lr_scheduler import ExponentialLR\n",
    "from tqdm.auto import tqdm\n",
    "\n",
    "# Set number of epochs\n",
    "NUM_EPOCHS = 5000\n",
    "\n",
    "# 1. Take in various parameters required for training and test steps\n",
    "def train(model: torch.nn.Module, \n",
    "          train_dataloader: torch.utils.data.DataLoader, \n",
    "          test_dataloader: torch.utils.data.DataLoader, \n",
    "          optimizer: torch.optim.Optimizer,\n",
    "          scheduler: torch.optim.lr_scheduler.LRScheduler,\n",
    "          loss_fn: torch.nn.Module = nn.CrossEntropyLoss(),\n",
    "          epochs: int = 5,\n",
    "          pause = False,\n",
    "          stop_at_min = 10):\n",
    "    \n",
    "    global NUM_EPOCHS   \n",
    "\n",
    "    # 2. Create empty results dictionary\n",
    "    results = {\"train_loss\": [],\n",
    "               \"test_loss\": [],\n",
    "    }\n",
    "    \n",
    "    # 3. Loop through training and testing steps for a number of epochs\n",
    "    for epoch in tqdm(range(epochs)):\n",
    "        train_loss = train_step(model=model,\n",
    "                                dataloader=train_dataloader,\n",
    "                                loss_fn=loss_fn,\n",
    "                                optimizer=optimizer)\n",
    "        test_loss = test_step(model=model,\n",
    "                              dataloader=test_dataloader,\n",
    "                              loss_fn=loss_fn)\n",
    "        if scheduler:\n",
    "            scheduler.step()\n",
    "\n",
    "        # 4. Print out what's happening\n",
    "        if epoch % 10 == 0:\n",
    "            print(\n",
    "                f\"Epoch: {epoch} | \"\n",
    "                f\"train_loss: {train_loss:.10f} | \"\n",
    "                f\"test_loss: {test_loss:.10f} | \"\n",
    "            )\n",
    "            if scheduler:\n",
    "                print(f\"learning_rate: {scheduler.get_last_lr():.10f}\")\n",
    "\n",
    "\n",
    "        # 5. Update results dictionary\n",
    "        # Ensure all data is moved to CPU and converted to float for storage\n",
    "        results[\"train_loss\"].append(train_loss.item() if isinstance(train_loss, torch.Tensor) else train_loss)\n",
    "        results[\"test_loss\"].append(test_loss.item() if isinstance(test_loss, torch.Tensor) else test_loss)\n",
    "\n",
    "        if pause:\n",
    "            # Wait for keypress to break the loop\n",
    "            if (epoch % 10)== 0 and epoch > 0:\n",
    "                try:\n",
    "                    if input(\"Press Enter to continue training or type 'stop' to end: \").strip().lower() == 'stop':\n",
    "                        NUM_EPOCHS = epoch + 1\n",
    "                        break\n",
    "                except KeyboardInterrupt:\n",
    "                    print(\"Training interrupted by user.\")\n",
    "                    NUM_EPOCHS = epoch + 1\n",
    "                    break\n",
    "\n",
    "        if stop_at_min:\n",
    "            if len(results['test_loss']) > stop_at_min:\n",
    "                # Count increases and decreases in the last 10 epochs\n",
    "                increases = sum(results['test_loss'][-i] > results['test_loss'][-i-1] for i in range(1, stop_at_min+1))\n",
    "                decreases = stop_at_min - increases\n",
    "                # Check if there are more increases than decreases\n",
    "                if increases > decreases:\n",
    "                    NUM_EPOCHS = epoch + 1\n",
    "                    print(f\"Stopping early at epoch {epoch + 1} due to more increases than decreases in test loss over the last 10 epochs.\")\n",
    "                    break\n",
    "\n",
    "    # 6. Return the filled results at the end of the epochs\n",
    "    return results"
   ]
  },
  {
   "cell_type": "code",
   "execution_count": 104,
   "metadata": {},
   "outputs": [
    {
     "data": {
      "application/vnd.jupyter.widget-view+json": {
       "model_id": "c5f60005d3744b809a65b66b0f83665d",
       "version_major": 2,
       "version_minor": 0
      },
      "text/plain": [
       "  0%|          | 0/5000 [00:00<?, ?it/s]"
      ]
     },
     "metadata": {},
     "output_type": "display_data"
    },
    {
     "name": "stdout",
     "output_type": "stream",
     "text": [
      "Epoch: 0 | train_loss: 4.3995904922 | test_loss: 3.2619214058 | \n",
      "Epoch: 10 | train_loss: 4.2476587296 | test_loss: 3.2210316658 | \n",
      "Epoch: 20 | train_loss: 4.1891160011 | test_loss: 3.1870174408 | \n",
      "Epoch: 30 | train_loss: 4.1366410255 | test_loss: 3.1548736095 | \n",
      "Epoch: 40 | train_loss: 4.0878648758 | test_loss: 3.1236279011 | \n",
      "Epoch: 50 | train_loss: 4.0418066978 | test_loss: 3.0931699276 | \n"
     ]
    },
    {
     "ename": "KeyboardInterrupt",
     "evalue": "",
     "output_type": "error",
     "traceback": [
      "\u001b[0;31m---------------------------------------------------------------------------\u001b[0m",
      "\u001b[0;31mKeyboardInterrupt\u001b[0m                         Traceback (most recent call last)",
      "Cell \u001b[0;32mIn[104], line 23\u001b[0m\n\u001b[1;32m     20\u001b[0m start_time \u001b[38;5;241m=\u001b[39m timer()\n\u001b[1;32m     22\u001b[0m \u001b[38;5;66;03m# Train model_0 \u001b[39;00m\n\u001b[0;32m---> 23\u001b[0m model_1_results \u001b[38;5;241m=\u001b[39m \u001b[43mtrain\u001b[49m\u001b[43m(\u001b[49m\u001b[43mmodel\u001b[49m\u001b[38;5;241;43m=\u001b[39;49m\u001b[43mmodel_1\u001b[49m\u001b[43m,\u001b[49m\u001b[43m \u001b[49m\n\u001b[1;32m     24\u001b[0m \u001b[43m                        \u001b[49m\u001b[43mtrain_dataloader\u001b[49m\u001b[38;5;241;43m=\u001b[39;49m\u001b[43mtrain_data_loader\u001b[49m\u001b[43m,\u001b[49m\n\u001b[1;32m     25\u001b[0m \u001b[43m                        \u001b[49m\u001b[43mtest_dataloader\u001b[49m\u001b[38;5;241;43m=\u001b[39;49m\u001b[43mtest_data_loader\u001b[49m\u001b[43m,\u001b[49m\n\u001b[1;32m     26\u001b[0m \u001b[43m                        \u001b[49m\u001b[43moptimizer\u001b[49m\u001b[38;5;241;43m=\u001b[39;49m\u001b[43moptimizer\u001b[49m\u001b[43m,\u001b[49m\n\u001b[1;32m     27\u001b[0m \u001b[43m                        \u001b[49m\u001b[43mscheduler\u001b[49m\u001b[38;5;241;43m=\u001b[39;49m\u001b[43mscheduler\u001b[49m\u001b[43m,\u001b[49m\n\u001b[1;32m     28\u001b[0m \u001b[43m                        \u001b[49m\u001b[43mloss_fn\u001b[49m\u001b[38;5;241;43m=\u001b[39;49m\u001b[43mloss_fn\u001b[49m\u001b[43m,\u001b[49m\u001b[43m \u001b[49m\n\u001b[1;32m     29\u001b[0m \u001b[43m                        \u001b[49m\u001b[43mepochs\u001b[49m\u001b[38;5;241;43m=\u001b[39;49m\u001b[43mNUM_EPOCHS\u001b[49m\u001b[43m,\u001b[49m\n\u001b[1;32m     30\u001b[0m \u001b[43m                        \u001b[49m\u001b[43mpause\u001b[49m\u001b[38;5;241;43m=\u001b[39;49m\u001b[38;5;28;43;01mFalse\u001b[39;49;00m\u001b[43m,\u001b[49m\n\u001b[1;32m     31\u001b[0m \u001b[43m                        \u001b[49m\u001b[38;5;66;43;03m#stop_at_min=int(NUM_EPOCHS/100)\u001b[39;49;00m\n\u001b[1;32m     32\u001b[0m \u001b[43m                        \u001b[49m\u001b[43m)\u001b[49m\n\u001b[1;32m     34\u001b[0m \u001b[38;5;66;03m# End the timer and print out how long it took\u001b[39;00m\n\u001b[1;32m     35\u001b[0m end_time \u001b[38;5;241m=\u001b[39m timer()\n",
      "Cell \u001b[0;32mIn[103], line 29\u001b[0m, in \u001b[0;36mtrain\u001b[0;34m(model, train_dataloader, test_dataloader, optimizer, scheduler, loss_fn, epochs, pause, stop_at_min)\u001b[0m\n\u001b[1;32m     27\u001b[0m \u001b[38;5;66;03m# 3. Loop through training and testing steps for a number of epochs\u001b[39;00m\n\u001b[1;32m     28\u001b[0m \u001b[38;5;28;01mfor\u001b[39;00m epoch \u001b[38;5;129;01min\u001b[39;00m tqdm(\u001b[38;5;28mrange\u001b[39m(epochs)):\n\u001b[0;32m---> 29\u001b[0m     train_loss \u001b[38;5;241m=\u001b[39m \u001b[43mtrain_step\u001b[49m\u001b[43m(\u001b[49m\u001b[43mmodel\u001b[49m\u001b[38;5;241;43m=\u001b[39;49m\u001b[43mmodel\u001b[49m\u001b[43m,\u001b[49m\n\u001b[1;32m     30\u001b[0m \u001b[43m                            \u001b[49m\u001b[43mdataloader\u001b[49m\u001b[38;5;241;43m=\u001b[39;49m\u001b[43mtrain_dataloader\u001b[49m\u001b[43m,\u001b[49m\n\u001b[1;32m     31\u001b[0m \u001b[43m                            \u001b[49m\u001b[43mloss_fn\u001b[49m\u001b[38;5;241;43m=\u001b[39;49m\u001b[43mloss_fn\u001b[49m\u001b[43m,\u001b[49m\n\u001b[1;32m     32\u001b[0m \u001b[43m                            \u001b[49m\u001b[43moptimizer\u001b[49m\u001b[38;5;241;43m=\u001b[39;49m\u001b[43moptimizer\u001b[49m\u001b[43m)\u001b[49m\n\u001b[1;32m     33\u001b[0m     test_loss \u001b[38;5;241m=\u001b[39m test_step(model\u001b[38;5;241m=\u001b[39mmodel,\n\u001b[1;32m     34\u001b[0m                           dataloader\u001b[38;5;241m=\u001b[39mtest_dataloader,\n\u001b[1;32m     35\u001b[0m                           loss_fn\u001b[38;5;241m=\u001b[39mloss_fn)\n\u001b[1;32m     36\u001b[0m     \u001b[38;5;28;01mif\u001b[39;00m scheduler:\n",
      "Cell \u001b[0;32mIn[101], line 15\u001b[0m, in \u001b[0;36mtrain_step\u001b[0;34m(model, dataloader, loss_fn, optimizer)\u001b[0m\n\u001b[1;32m     12\u001b[0m train_loss_arr \u001b[38;5;241m=\u001b[39m []\n\u001b[1;32m     14\u001b[0m \u001b[38;5;66;03m# Loop through data loader data batches\u001b[39;00m\n\u001b[0;32m---> 15\u001b[0m \u001b[38;5;28;01mfor\u001b[39;00m batch, (X, y) \u001b[38;5;129;01min\u001b[39;00m \u001b[38;5;28menumerate\u001b[39m(dataloader):\n\u001b[1;32m     16\u001b[0m     \u001b[38;5;66;03m# Send data to target device\u001b[39;00m\n\u001b[1;32m     17\u001b[0m     X, y \u001b[38;5;241m=\u001b[39m X\u001b[38;5;241m.\u001b[39mto(device), y\u001b[38;5;241m.\u001b[39mto(device)\n\u001b[1;32m     19\u001b[0m     \u001b[38;5;66;03m# 1. Forward pass\u001b[39;00m\n",
      "File \u001b[0;32m~/venv_ubu22.04/lib/python3.10/site-packages/torch/utils/data/dataloader.py:701\u001b[0m, in \u001b[0;36m_BaseDataLoaderIter.__next__\u001b[0;34m(self)\u001b[0m\n\u001b[1;32m    698\u001b[0m \u001b[38;5;28;01mif\u001b[39;00m \u001b[38;5;28mself\u001b[39m\u001b[38;5;241m.\u001b[39m_sampler_iter \u001b[38;5;129;01mis\u001b[39;00m \u001b[38;5;28;01mNone\u001b[39;00m:\n\u001b[1;32m    699\u001b[0m     \u001b[38;5;66;03m# TODO(https://github.com/pytorch/pytorch/issues/76750)\u001b[39;00m\n\u001b[1;32m    700\u001b[0m     \u001b[38;5;28mself\u001b[39m\u001b[38;5;241m.\u001b[39m_reset()  \u001b[38;5;66;03m# type: ignore[call-arg]\u001b[39;00m\n\u001b[0;32m--> 701\u001b[0m data \u001b[38;5;241m=\u001b[39m \u001b[38;5;28;43mself\u001b[39;49m\u001b[38;5;241;43m.\u001b[39;49m\u001b[43m_next_data\u001b[49m\u001b[43m(\u001b[49m\u001b[43m)\u001b[49m\n\u001b[1;32m    702\u001b[0m \u001b[38;5;28mself\u001b[39m\u001b[38;5;241m.\u001b[39m_num_yielded \u001b[38;5;241m+\u001b[39m\u001b[38;5;241m=\u001b[39m \u001b[38;5;241m1\u001b[39m\n\u001b[1;32m    703\u001b[0m \u001b[38;5;28;01mif\u001b[39;00m (\n\u001b[1;32m    704\u001b[0m     \u001b[38;5;28mself\u001b[39m\u001b[38;5;241m.\u001b[39m_dataset_kind \u001b[38;5;241m==\u001b[39m _DatasetKind\u001b[38;5;241m.\u001b[39mIterable\n\u001b[1;32m    705\u001b[0m     \u001b[38;5;129;01mand\u001b[39;00m \u001b[38;5;28mself\u001b[39m\u001b[38;5;241m.\u001b[39m_IterableDataset_len_called \u001b[38;5;129;01mis\u001b[39;00m \u001b[38;5;129;01mnot\u001b[39;00m \u001b[38;5;28;01mNone\u001b[39;00m\n\u001b[1;32m    706\u001b[0m     \u001b[38;5;129;01mand\u001b[39;00m \u001b[38;5;28mself\u001b[39m\u001b[38;5;241m.\u001b[39m_num_yielded \u001b[38;5;241m>\u001b[39m \u001b[38;5;28mself\u001b[39m\u001b[38;5;241m.\u001b[39m_IterableDataset_len_called\n\u001b[1;32m    707\u001b[0m ):\n",
      "File \u001b[0;32m~/venv_ubu22.04/lib/python3.10/site-packages/torch/utils/data/dataloader.py:757\u001b[0m, in \u001b[0;36m_SingleProcessDataLoaderIter._next_data\u001b[0;34m(self)\u001b[0m\n\u001b[1;32m    755\u001b[0m \u001b[38;5;28;01mdef\u001b[39;00m \u001b[38;5;21m_next_data\u001b[39m(\u001b[38;5;28mself\u001b[39m):\n\u001b[1;32m    756\u001b[0m     index \u001b[38;5;241m=\u001b[39m \u001b[38;5;28mself\u001b[39m\u001b[38;5;241m.\u001b[39m_next_index()  \u001b[38;5;66;03m# may raise StopIteration\u001b[39;00m\n\u001b[0;32m--> 757\u001b[0m     data \u001b[38;5;241m=\u001b[39m \u001b[38;5;28;43mself\u001b[39;49m\u001b[38;5;241;43m.\u001b[39;49m\u001b[43m_dataset_fetcher\u001b[49m\u001b[38;5;241;43m.\u001b[39;49m\u001b[43mfetch\u001b[49m\u001b[43m(\u001b[49m\u001b[43mindex\u001b[49m\u001b[43m)\u001b[49m  \u001b[38;5;66;03m# may raise StopIteration\u001b[39;00m\n\u001b[1;32m    758\u001b[0m     \u001b[38;5;28;01mif\u001b[39;00m \u001b[38;5;28mself\u001b[39m\u001b[38;5;241m.\u001b[39m_pin_memory:\n\u001b[1;32m    759\u001b[0m         data \u001b[38;5;241m=\u001b[39m _utils\u001b[38;5;241m.\u001b[39mpin_memory\u001b[38;5;241m.\u001b[39mpin_memory(data, \u001b[38;5;28mself\u001b[39m\u001b[38;5;241m.\u001b[39m_pin_memory_device)\n",
      "File \u001b[0;32m~/venv_ubu22.04/lib/python3.10/site-packages/torch/utils/data/_utils/fetch.py:52\u001b[0m, in \u001b[0;36m_MapDatasetFetcher.fetch\u001b[0;34m(self, possibly_batched_index)\u001b[0m\n\u001b[1;32m     50\u001b[0m         data \u001b[38;5;241m=\u001b[39m \u001b[38;5;28mself\u001b[39m\u001b[38;5;241m.\u001b[39mdataset\u001b[38;5;241m.\u001b[39m__getitems__(possibly_batched_index)\n\u001b[1;32m     51\u001b[0m     \u001b[38;5;28;01melse\u001b[39;00m:\n\u001b[0;32m---> 52\u001b[0m         data \u001b[38;5;241m=\u001b[39m [\u001b[38;5;28mself\u001b[39m\u001b[38;5;241m.\u001b[39mdataset[idx] \u001b[38;5;28;01mfor\u001b[39;00m idx \u001b[38;5;129;01min\u001b[39;00m possibly_batched_index]\n\u001b[1;32m     53\u001b[0m \u001b[38;5;28;01melse\u001b[39;00m:\n\u001b[1;32m     54\u001b[0m     data \u001b[38;5;241m=\u001b[39m \u001b[38;5;28mself\u001b[39m\u001b[38;5;241m.\u001b[39mdataset[possibly_batched_index]\n",
      "File \u001b[0;32m~/venv_ubu22.04/lib/python3.10/site-packages/torch/utils/data/_utils/fetch.py:52\u001b[0m, in \u001b[0;36m<listcomp>\u001b[0;34m(.0)\u001b[0m\n\u001b[1;32m     50\u001b[0m         data \u001b[38;5;241m=\u001b[39m \u001b[38;5;28mself\u001b[39m\u001b[38;5;241m.\u001b[39mdataset\u001b[38;5;241m.\u001b[39m__getitems__(possibly_batched_index)\n\u001b[1;32m     51\u001b[0m     \u001b[38;5;28;01melse\u001b[39;00m:\n\u001b[0;32m---> 52\u001b[0m         data \u001b[38;5;241m=\u001b[39m [\u001b[38;5;28;43mself\u001b[39;49m\u001b[38;5;241;43m.\u001b[39;49m\u001b[43mdataset\u001b[49m\u001b[43m[\u001b[49m\u001b[43midx\u001b[49m\u001b[43m]\u001b[49m \u001b[38;5;28;01mfor\u001b[39;00m idx \u001b[38;5;129;01min\u001b[39;00m possibly_batched_index]\n\u001b[1;32m     53\u001b[0m \u001b[38;5;28;01melse\u001b[39;00m:\n\u001b[1;32m     54\u001b[0m     data \u001b[38;5;241m=\u001b[39m \u001b[38;5;28mself\u001b[39m\u001b[38;5;241m.\u001b[39mdataset[possibly_batched_index]\n",
      "File \u001b[0;32m/data/condor_shared/users/ssued/RNOGCnn/utils.py:84\u001b[0m, in \u001b[0;36mEventtoData.__getitem__\u001b[0;34m(self, index)\u001b[0m\n\u001b[1;32m     81\u001b[0m item_snr \u001b[38;5;241m=\u001b[39m torch\u001b[38;5;241m.\u001b[39mtensor(np\u001b[38;5;241m.\u001b[39marray(\u001b[38;5;28mself\u001b[39m\u001b[38;5;241m.\u001b[39mevents[index][\u001b[38;5;124m'\u001b[39m\u001b[38;5;124mmean_SNR\u001b[39m\u001b[38;5;124m'\u001b[39m])\u001b[38;5;241m.\u001b[39mastype(\u001b[38;5;124m'\u001b[39m\u001b[38;5;124mfloat32\u001b[39m\u001b[38;5;124m'\u001b[39m))\n\u001b[1;32m     83\u001b[0m \u001b[38;5;28;01mif\u001b[39;00m normalize:\n\u001b[0;32m---> 84\u001b[0m     item \u001b[38;5;241m=\u001b[39m (\u001b[43mnormalize\u001b[49m\u001b[43m(\u001b[49m\u001b[43mitem_data\u001b[49m\u001b[43m)\u001b[49m,item_snr)\n\u001b[1;32m     85\u001b[0m \u001b[38;5;28;01melse\u001b[39;00m:\n\u001b[1;32m     86\u001b[0m     item \u001b[38;5;241m=\u001b[39m (item_data,item_snr)\n",
      "File \u001b[0;32m~/venv_ubu22.04/lib/python3.10/site-packages/torch/nn/functional.py:5373\u001b[0m, in \u001b[0;36mnormalize\u001b[0;34m(input, p, dim, eps, out)\u001b[0m\n\u001b[1;32m   5369\u001b[0m     \u001b[38;5;28;01mreturn\u001b[39;00m handle_torch_function(\n\u001b[1;32m   5370\u001b[0m         normalize, (\u001b[38;5;28minput\u001b[39m, out), \u001b[38;5;28minput\u001b[39m, p\u001b[38;5;241m=\u001b[39mp, dim\u001b[38;5;241m=\u001b[39mdim, eps\u001b[38;5;241m=\u001b[39meps, out\u001b[38;5;241m=\u001b[39mout\n\u001b[1;32m   5371\u001b[0m     )\n\u001b[1;32m   5372\u001b[0m \u001b[38;5;28;01mif\u001b[39;00m out \u001b[38;5;129;01mis\u001b[39;00m \u001b[38;5;28;01mNone\u001b[39;00m:\n\u001b[0;32m-> 5373\u001b[0m     denom \u001b[38;5;241m=\u001b[39m \u001b[38;5;28;43minput\u001b[39;49m\u001b[38;5;241;43m.\u001b[39;49m\u001b[43mnorm\u001b[49m\u001b[43m(\u001b[49m\u001b[43mp\u001b[49m\u001b[43m,\u001b[49m\u001b[43m \u001b[49m\u001b[43mdim\u001b[49m\u001b[43m,\u001b[49m\u001b[43m \u001b[49m\u001b[43mkeepdim\u001b[49m\u001b[38;5;241;43m=\u001b[39;49m\u001b[38;5;28;43;01mTrue\u001b[39;49;00m\u001b[43m)\u001b[49m\u001b[38;5;241m.\u001b[39mclamp_min(eps)\u001b[38;5;241m.\u001b[39mexpand_as(\u001b[38;5;28minput\u001b[39m)\n\u001b[1;32m   5374\u001b[0m     \u001b[38;5;28;01mreturn\u001b[39;00m \u001b[38;5;28minput\u001b[39m \u001b[38;5;241m/\u001b[39m denom\n\u001b[1;32m   5375\u001b[0m \u001b[38;5;28;01melse\u001b[39;00m:\n",
      "File \u001b[0;32m~/venv_ubu22.04/lib/python3.10/site-packages/torch/_tensor.py:827\u001b[0m, in \u001b[0;36mTensor.norm\u001b[0;34m(self, p, dim, keepdim, dtype)\u001b[0m\n\u001b[1;32m    823\u001b[0m \u001b[38;5;28;01mif\u001b[39;00m has_torch_function_unary(\u001b[38;5;28mself\u001b[39m):\n\u001b[1;32m    824\u001b[0m     \u001b[38;5;28;01mreturn\u001b[39;00m handle_torch_function(\n\u001b[1;32m    825\u001b[0m         Tensor\u001b[38;5;241m.\u001b[39mnorm, (\u001b[38;5;28mself\u001b[39m,), \u001b[38;5;28mself\u001b[39m, p\u001b[38;5;241m=\u001b[39mp, dim\u001b[38;5;241m=\u001b[39mdim, keepdim\u001b[38;5;241m=\u001b[39mkeepdim, dtype\u001b[38;5;241m=\u001b[39mdtype\n\u001b[1;32m    826\u001b[0m     )\n\u001b[0;32m--> 827\u001b[0m \u001b[38;5;28;01mreturn\u001b[39;00m \u001b[43mtorch\u001b[49m\u001b[38;5;241;43m.\u001b[39;49m\u001b[43mnorm\u001b[49m\u001b[43m(\u001b[49m\u001b[38;5;28;43mself\u001b[39;49m\u001b[43m,\u001b[49m\u001b[43m \u001b[49m\u001b[43mp\u001b[49m\u001b[43m,\u001b[49m\u001b[43m \u001b[49m\u001b[43mdim\u001b[49m\u001b[43m,\u001b[49m\u001b[43m \u001b[49m\u001b[43mkeepdim\u001b[49m\u001b[43m,\u001b[49m\u001b[43m \u001b[49m\u001b[43mdtype\u001b[49m\u001b[38;5;241;43m=\u001b[39;49m\u001b[43mdtype\u001b[49m\u001b[43m)\u001b[49m\n",
      "File \u001b[0;32m~/venv_ubu22.04/lib/python3.10/site-packages/torch/functional.py:1822\u001b[0m, in \u001b[0;36mnorm\u001b[0;34m(input, p, dim, keepdim, out, dtype)\u001b[0m\n\u001b[1;32m   1820\u001b[0m _p \u001b[38;5;241m=\u001b[39m \u001b[38;5;241m2.0\u001b[39m \u001b[38;5;28;01mif\u001b[39;00m p \u001b[38;5;129;01mis\u001b[39;00m \u001b[38;5;28;01mNone\u001b[39;00m \u001b[38;5;28;01melse\u001b[39;00m p\n\u001b[1;32m   1821\u001b[0m \u001b[38;5;28;01mif\u001b[39;00m out \u001b[38;5;129;01mis\u001b[39;00m \u001b[38;5;28;01mNone\u001b[39;00m:\n\u001b[0;32m-> 1822\u001b[0m     \u001b[38;5;28;01mreturn\u001b[39;00m \u001b[43mtorch\u001b[49m\u001b[38;5;241;43m.\u001b[39;49m\u001b[43mlinalg\u001b[49m\u001b[38;5;241;43m.\u001b[39;49m\u001b[43mvector_norm\u001b[49m\u001b[43m(\u001b[49m\u001b[38;5;28;43minput\u001b[39;49m\u001b[43m,\u001b[49m\u001b[43m \u001b[49m\u001b[43m_p\u001b[49m\u001b[43m,\u001b[49m\u001b[43m \u001b[49m\u001b[43m_dim\u001b[49m\u001b[43m,\u001b[49m\u001b[43m \u001b[49m\u001b[43mkeepdim\u001b[49m\u001b[43m,\u001b[49m\u001b[43m \u001b[49m\u001b[43mdtype\u001b[49m\u001b[38;5;241;43m=\u001b[39;49m\u001b[43mdtype\u001b[49m\u001b[43m)\u001b[49m\n\u001b[1;32m   1823\u001b[0m \u001b[38;5;28;01melse\u001b[39;00m:\n\u001b[1;32m   1824\u001b[0m     \u001b[38;5;28;01mreturn\u001b[39;00m torch\u001b[38;5;241m.\u001b[39mlinalg\u001b[38;5;241m.\u001b[39mvector_norm(\n\u001b[1;32m   1825\u001b[0m         \u001b[38;5;28minput\u001b[39m, _p, _dim, keepdim, dtype\u001b[38;5;241m=\u001b[39mdtype, out\u001b[38;5;241m=\u001b[39mout\n\u001b[1;32m   1826\u001b[0m     )\n",
      "\u001b[0;31mKeyboardInterrupt\u001b[0m: "
     ]
    }
   ],
   "source": [
    "# Create model_1\n",
    "model_1 = RNOG_CNN_alpha_1(input_shape=1, # number of color channels (3 for RGB) \n",
    "                  hidden_units=10, \n",
    "                  output_shape=1,\n",
    "                  batch_size=BATCH_SIZE,\n",
    "                  num_epochs=NUM_EPOCHS,\n",
    "                  train_n = len(train_eventbatch.keys()),\n",
    "                  test_n = len(test_eventbatch.keys())\n",
    "                  )\n",
    "\n",
    "# Setup loss function and optimizer\n",
    "loss_fn = nn.MSELoss()\n",
    "#loss_fn = nn.HuberLoss(delta=0.01)\n",
    "#loss_fn = nn.L1Loss()\n",
    "optimizer = torch.optim.SGD(params=model_1.parameters())\n",
    "scheduler = False#ExponentialLR(optimizer, gamma=0.9)\n",
    "\n",
    "# Start the timer\n",
    "from timeit import default_timer as timer\n",
    "start_time = timer()\n",
    "\n",
    "# Train model_0 \n",
    "model_1_results = train(model=model_1, \n",
    "                        train_dataloader=train_data_loader,\n",
    "                        test_dataloader=test_data_loader,\n",
    "                        optimizer=optimizer,\n",
    "                        scheduler=scheduler,\n",
    "                        loss_fn=loss_fn, \n",
    "                        epochs=NUM_EPOCHS,\n",
    "                        pause=False,\n",
    "                        #stop_at_min=int(NUM_EPOCHS/100)\n",
    "                        )\n",
    "    \n",
    "# End the timer and print out how long it took\n",
    "end_time = timer()\n",
    "print(f\"Total training time: {end_time-start_time:.3f} seconds\")"
   ]
  },
  {
   "cell_type": "code",
   "execution_count": null,
   "metadata": {},
   "outputs": [
    {
     "name": "stdout",
     "output_type": "stream",
     "text": [
      "10000\n"
     ]
    },
    {
     "data": {
      "image/png": "[encoded data removed]",
      "text/plain": [
       "<Figure size 1000x600 with 1 Axes>"
      ]
     },
     "metadata": {},
     "output_type": "display_data"
    }
   ],
   "source": [
    "import matplotlib.pyplot as plt\n",
    "\n",
    "print(NUM_EPOCHS)\n",
    "\n",
    "# Plot loss curves with improved aesthetics:\n",
    "epochs = np.arange(NUM_EPOCHS)\n",
    "train_loss = model_1_results['train_loss']\n",
    "test_loss = model_1_results['test_loss']\n",
    "\n",
    "plt.figure(figsize=(10, 6))\n",
    "plt.plot(epochs[3::10], train_loss[3::10], label='Train Loss', color='blue', linestyle='-', marker='o')\n",
    "plt.plot(epochs[3::10], test_loss[3::10], label='Test Loss', color='red', linestyle='--', marker='x')\n",
    "\n",
    "# Plot minimum loss horizontal lines\n",
    "min_train_loss = min(train_loss)\n",
    "min_test_loss = min(test_loss)\n",
    "plt.axhline(y=min_train_loss, color='blue', linestyle=':', label=f'Min Train Loss: {min_train_loss:.6f}')\n",
    "plt.axhline(y=min_test_loss, color='red', linestyle=':', label=f'Min Test Loss: {min_test_loss:.6f}')\n",
    "\n",
    "plt.xlabel('Epochs')\n",
    "plt.ylabel('Loss')\n",
    "plt.title('Training and Testing Loss Curves')\n",
    "plt.legend()\n",
    "plt.grid(True)\n",
    "plt.show()"
   ]
  },
  {
   "cell_type": "markdown",
   "metadata": {},
   "source": [
    "For batch size 250: avg mse: 0.22745657986120021\n",
    "For batch size 50: avg mse: 1.0588526575854587"
   ]
  },
  {
   "cell_type": "code",
   "execution_count": null,
   "metadata": {},
   "outputs": [],
   "source": [
    "def make_predictions(model: torch.nn.Module, dataloader: torch.utils.data.DataLoader, device: torch.device = 'cpu', plot: bool = False, verbose: bool = False):\n",
    "    \"\"\"\n",
    "    Make predictions using a trained PyTorch model on a given DataLoader.\n",
    "\n",
    "    Args:\n",
    "        model (torch.nn.Module): The trained PyTorch model to use for predictions.\n",
    "        dataloader (torch.utils.data.DataLoader): DataLoader containing the data to predict on.\n",
    "        device (torch.device, optional): The device to run the model on (default 'cpu').\n",
    "        plot (bool, optional): Whether to plot the predicted vs true SNR values (default is False).\n",
    "        verbose (bool, optional): Whether to print detailed prediction information, including MSE for each sample (default is False).\n",
    "\n",
    "    Returns:\n",
    "        list: A list of tuples containing predicted and true SNR values for each sample in the DataLoader.\n",
    "    \"\"\"\n",
    "\n",
    "    predictions = []\n",
    "    model.eval()\n",
    "    with torch.inference_mode():\n",
    "        for data, snr in dataloader:\n",
    "            data = data.to(device)\n",
    "            pred = model(data)\n",
    "            predictions.append((pred.cpu().item(), snr.cpu().item()))\n",
    "\n",
    "    if verbose:\n",
    "        print(\"First 20 predictions (Predicted SNR, True SNR):\")\n",
    "        avg_mse = 0\n",
    "        for i, (pred, true) in enumerate(predictions):\n",
    "            print(f\"Sample {i + 1}: Predicted = {pred:.16f}, True = {true:.16f}\")\n",
    "            mse = (pred-true)**2\n",
    "            print(f'MSE: {mse}')\n",
    "            avg_mse+=mse\n",
    "        print(f'Average MSE: {avg_mse/20}')\n",
    "            \n",
    "\n",
    "\n",
    "    if plot:\n",
    "        pred_values, true_values = zip(*predictions)\n",
    "        differences = [true - pred for true, pred in predictions]\n",
    "\n",
    "        plt.figure(figsize=(12, 6))\n",
    "        plt.hist(differences, bins=np.arange(-3, 3, 0.1), edgecolor='black', alpha=0.7)\n",
    "        #plt.hist2d(true_values,pred_values,bins=[np.linspace(2,5,10),np.linspace(2,5,10)])\n",
    "        plt.xlabel('Difference (True SNR - Predicted SNR)', fontsize=14)\n",
    "        plt.ylabel('Frequency', fontsize=14)\n",
    "        plt.title('Histogram of Differences Between True and Predicted SNR', fontsize=16)\n",
    "        plt.grid(axis='y', linestyle='--', alpha=0.7)\n",
    "        plt.xticks(fontsize=12)\n",
    "        plt.yticks(fontsize=12)\n",
    "        plt.show()\n",
    "\n",
    "    return predictions"
   ]
  },
  {
   "cell_type": "code",
   "execution_count": null,
   "metadata": {},
   "outputs": [
    {
     "data": {
      "text/plain": [
       "OrderedDict([('conv_block_1.0.weight',\n",
       "              tensor([[[[-8.1881e+00, -1.0143e+00,  9.5428e-01,  4.3074e+00,  3.0464e+00,\n",
       "                          2.2706e+00,  1.8296e+00,  3.1516e+00,  3.6898e+00,  3.6405e+00,\n",
       "                          1.4870e+00,  3.6354e+00,  2.9685e+00,  2.0609e+00,  8.3494e-01,\n",
       "                         -1.7400e+00, -2.4573e-01,  2.9179e-01, -3.7873e-01,  4.5649e-01,\n",
       "                         -2.3009e+00, -3.2735e+00, -1.0145e+01, -1.1258e+01, -8.1125e+00],\n",
       "                        [-8.5045e+00, -1.2072e+00,  7.2550e-01,  3.8189e+00,  2.9866e+00,\n",
       "                          2.0390e+00,  1.8164e+00,  3.1954e+00,  3.8255e+00,  3.2774e+00,\n",
       "                          1.5388e+00,  3.4646e+00,  2.3988e+00,  1.9736e+00,  6.5094e-01,\n",
       "                         -1.5306e+00, -4.2184e-01,  7.9827e-04, -1.8979e-01,  2.4008e-01,\n",
       "                         -2.6852e+00, -3.5163e+00, -1.0477e+01, -1.1054e+01, -7.9893e+00],\n",
       "                        [-8.4194e+00, -9.7057e-01,  4.7532e-01,  3.7657e+00,  3.2742e+00,\n",
       "                          1.9277e+00,  1.4359e+00,  2.4459e+00,  3.7236e+00,  3.1370e+00,\n",
       "                          1.7863e+00,  3.6033e+00,  3.3122e+00,  2.0567e+00,  7.4473e-01,\n",
       "                         -2.0552e+00, -5.7286e-01, -1.0374e-02, -3.9560e-01,  3.3965e-01,\n",
       "                         -2.6233e+00, -3.3768e+00, -1.0452e+01, -1.1242e+01, -8.2210e+00],\n",
       "                        [-8.5241e+00, -1.1935e+00,  4.9692e-01,  3.5346e+00,  2.9802e+00,\n",
       "                          1.8430e+00,  1.4012e+00,  2.8288e+00,  3.4162e+00,  2.9943e+00,\n",
       "                          1.7978e+00,  3.6674e+00,  3.0655e+00,  1.9554e+00,  1.0379e+00,\n",
       "                         -1.8634e+00, -5.9411e-01,  3.6404e-01, -7.4206e-02,  7.5718e-01,\n",
       "                         -2.4696e+00, -3.0159e+00, -1.0021e+01, -1.0948e+01, -8.4659e+00]]]])),\n",
       "             ('conv_block_1.0.bias', tensor([32.5278]))])"
      ]
     },
     "execution_count": 77,
     "metadata": {},
     "output_type": "execute_result"
    }
   ],
   "source": [
    "model_1.state_dict()"
   ]
  },
  {
   "cell_type": "markdown",
   "metadata": {},
   "source": [
    "Should stay commented to avoid any issues:"
   ]
  },
  {
   "cell_type": "code",
   "execution_count": null,
   "metadata": {},
   "outputs": [
    {
     "name": "stdout",
     "output_type": "stream",
     "text": [
      "Saving model to: models/RNOG_alpha_model_b:32_e:10000_tn:20334\n",
      "Model last saved on: 2025-04-07 08:15:31\n"
     ]
    }
   ],
   "source": [
    "from pathlib import Path\n",
    "from datetime import datetime\n",
    "\n",
    "# Create model directory path\n",
    "MODEL_PATH = Path('models')\n",
    "MODEL_PATH.mkdir(parents=True,\n",
    "                 exist_ok=True)\n",
    "\n",
    "# Create model save path\n",
    "MODEL_NAME=f'RNOG_alpha_model_b:{model_1.batch_size}_e:{model_1.num_epochs}_tn:{model_1.train_n}'\n",
    "MODEL_SAVE_PATH=MODEL_PATH/MODEL_NAME\n",
    "\n",
    "print(f'Saving model to: {MODEL_SAVE_PATH}')\n",
    "torch.save(obj=model_1.state_dict(),f=MODEL_SAVE_PATH)\n",
    "# Add last save date and time\n",
    "last_save_time = datetime.now().strftime(\"%Y-%m-%d %H:%M:%S\")\n",
    "print(f\"Model last saved on: {last_save_time}\")"
   ]
  },
  {
   "cell_type": "markdown",
   "metadata": {},
   "source": [
    "For Loading Models"
   ]
  },
  {
   "cell_type": "code",
   "execution_count": null,
   "metadata": {},
   "outputs": [
    {
     "name": "stderr",
     "output_type": "stream",
     "text": [
      "/tmp/ipykernel_2252580/493106630.py:11: FutureWarning: You are using `torch.load` with `weights_only=False` (the current default value), which uses the default pickle module implicitly. It is possible to construct malicious pickle data which will execute arbitrary code during unpickling (See https://github.com/pytorch/pytorch/blob/main/SECURITY.md#untrusted-models for more details). In a future release, the default value for `weights_only` will be flipped to `True`. This limits the functions that could be executed during unpickling. Arbitrary objects will no longer be allowed to be loaded via this mode unless they are explicitly allowlisted by the user via `torch.serialization.add_safe_globals`. We recommend you start setting `weights_only=True` for any use case where you don't have full control of the loaded file. Please open an issue on GitHub for any issues related to this experimental feature.\n",
      "  loaded_model.load_state_dict(torch.load('/data/condor_shared/users/ssued/RNOGCnn/CNN/models/RNOG_alpha_model_3.pth'))\n"
     ]
    },
    {
     "data": {
      "text/plain": [
       "<All keys matched successfully>"
      ]
     },
     "execution_count": 16,
     "metadata": {},
     "output_type": "execute_result"
    }
   ],
   "source": [
    "# import torch\n",
    "# import pickle\n",
    "# import matplotlib.pyplot as plt\n",
    "# import numpy as np\n",
    "# from torch import nn\n",
    "\n",
    "# loaded_model = RNOG_CNN_alpha_1(input_shape=1, # number of color channels (3 for RGB) \n",
    "#                   hidden_units=10, \n",
    "#                   output_shape=1)\n",
    "\n",
    "# loaded_model.load_state_dict(torch.load('/data/condor_shared/users/ssued/RNOGCnn/CNN/models/RNOG_alpha_model_3.pth'))\n"
   ]
  },
  {
   "cell_type": "code",
   "execution_count": null,
   "metadata": {},
   "outputs": [],
   "source": [
    "import random\n",
    "import sys\n",
    "sys.path.append('/data/condor_shared/users/ssued/RNOGCnn')\n",
    "import utils\n",
    "from torch.utils.data import DataLoader\n",
    "\n",
    "device='cpu'\n",
    "\n",
    "eventbatch = utils.obtain_evb('eventbatch.pkl')\n",
    "# Select 20 random events from eventbatch\n",
    "random_events = dict(random.choices(list(eventbatch.items()), k=100))\n",
    "\n",
    "random_data = utils.EventtoData(random_events)\n",
    "\n",
    "random_dataloader = DataLoader(random_data,1,False)\n",
    "\n",
    "model_1.eval()\n",
    "loss_fn = nn.MSELoss()\n",
    "\n",
    "# with torch.inference_mode():\n",
    "#     for i, (data, snr) in enumerate(random_dataloader):\n",
    "#         data, snr = data.to(device), snr.to(device)\n",
    "#         pred = loaded_model(data)\n",
    "#         loss = loss_fn(pred, snr)\n",
    "#         print(f\"Data Point {i + 1}: Loss = {loss.item():.6f}\")"
   ]
  },
  {
   "cell_type": "code",
   "execution_count": null,
   "metadata": {},
   "outputs": [
    {
     "data": {
      "image/png": "[encoded data removed]",
      "text/plain": [
       "<Figure size 1200x600 with 1 Axes>"
      ]
     },
     "metadata": {},
     "output_type": "display_data"
    }
   ],
   "source": [
    "make_predictions(model_1, random_dataloader, device=device, plot=True,verbose=False);"
   ]
  }
 ],
 "metadata": {
  "kernelspec": {
   "display_name": "venv_ubu22.04",
   "language": "python",
   "name": "python3"
  },
  "language_info": {
   "codemirror_mode": {
    "name": "ipython",
    "version": 3
   },
   "file_extension": ".py",
   "mimetype": "text/x-python",
   "name": "python",
   "nbconvert_exporter": "python",
   "pygments_lexer": "ipython3",
   "version": "3.10.12"
  }
 },
 "nbformat": 4,
 "nbformat_minor": 2
}
