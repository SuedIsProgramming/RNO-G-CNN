{
 "cells": [
  {
   "cell_type": "markdown",
   "metadata": {},
   "source": [
    "## <font color='red'>Depecrated for now, may cause issues</font>"
   ]
  },
  {
   "cell_type": "markdown",
   "metadata": {},
   "source": [
    "# Step 1"
   ]
  },
  {
   "cell_type": "code",
   "execution_count": 6,
   "metadata": {},
   "outputs": [
    {
     "name": "stderr",
     "output_type": "stream",
     "text": [
      "fatal: your current branch 'master' does not have any commits yet\n",
      "\u001b[93mINFO - \u001b[0mNuRadioMC.EvtGen - increasing rmax from 1.0km to 1.0km, zmax from 0.0km to 0.0km\n",
      "\u001b[93mINFO - \u001b[0mNuRadioMC.EvtGen - increasing number of events from 100 to 100\n",
      "\u001b[93mINFO - \u001b[0mNuRadioMC.EvtGen - processing batch 1/1 with 1e+02 events\n",
      "\u001b[93mINFO - \u001b[0mNuRadioMC.EvtGen - Time per event (PROPOSAL only): 0.0000 ms\n",
      "\u001b[93mINFO - \u001b[0mNuRadioMC.EvtGen - Total time (PROPOSAL only) 0s\n",
      "\u001b[93mINFO - \u001b[0mNuRadioMC.EvtGen - number of fiducial showers 122\n",
      "\u001b[93mINFO - \u001b[0mNuRadioMC.EvtGen - saving 100 events in total\n",
      "\u001b[93mSTATUS - \u001b[0mNuRadioMC.EvtGen - writing file 1e19_n1e3.hdf5 with 100 events (id 1 - 100) and 122 entries\n",
      "\u001b[93mINFO - \u001b[0mNuRadioMC.EvtGen - wrote 100 events in total\n",
      "\u001b[93mSTATUS - \u001b[0mNuRadioMC.EvtGen - finished in 0s\n"
     ]
    }
   ],
   "source": [
    "from __future__ import absolute_import, division, print_function\n",
    "from NuRadioReco.utilities import units\n",
    "from NuRadioMC.EvtGen.generator import generate_eventlist_cylinder\n",
    "\n",
    "# Setup logging\n",
    "from NuRadioReco.utilities.logging import setup_logger\n",
    "logger = setup_logger(name=\"\")\n",
    "\n",
    "# define simulation volume (artificially close by to make them trigger)\n",
    "volume = {\n",
    "'fiducial_zmin':-1 * units.km,  # the ice sheet at South Pole is 2.7km deep\n",
    "'fiducial_zmax': 0 * units.km,\n",
    "'fiducial_rmin': 0 * units.km,\n",
    "'fiducial_rmax': 1 * units.km}\n",
    "\n",
    "# generate one event list at 1e19 eV with 1000 neutrinos\n",
    "generate_eventlist_cylinder('1e19_n1e3.hdf5', 1e2, 1e19 * units.eV, 1e19 * units.eV, volume)"
   ]
  },
  {
   "cell_type": "markdown",
   "metadata": {},
   "source": [
    "# Step 2"
   ]
  },
  {
   "cell_type": "code",
   "execution_count": 7,
   "metadata": {},
   "outputs": [
    {
     "name": "stderr",
     "output_type": "stream",
     "text": [
      "\u001b[93mSTATUS - \u001b[0mNuRadioMC.simulation - reading default config from /data/i3home/ssued/lib/python3.12/site-packages/NuRadioMC/simulation/config_default.yaml\n",
      "\u001b[93mSTATUS - \u001b[0mNuRadioMC.simulation - reading local config overrides from output.nur\n"
     ]
    },
    {
     "ename": "FileNotFoundError",
     "evalue": "[Errno 2] No such file or directory: 'output.nur'",
     "output_type": "error",
     "traceback": [
      "\u001b[0;31m---------------------------------------------------------------------------\u001b[0m",
      "\u001b[0;31mFileNotFoundError\u001b[0m                         Traceback (most recent call last)",
      "Cell \u001b[0;32mIn[7], line 48\u001b[0m\n\u001b[1;32m     39\u001b[0m         highLowThreshold\u001b[38;5;241m.\u001b[39mrun(evt, station, det,\n\u001b[1;32m     40\u001b[0m                                     threshold_high\u001b[38;5;241m=\u001b[39m\u001b[38;5;241m4\u001b[39m \u001b[38;5;241m*\u001b[39m \u001b[38;5;28mself\u001b[39m\u001b[38;5;241m.\u001b[39m_Vrms,\n\u001b[1;32m     41\u001b[0m                                     threshold_low\u001b[38;5;241m=\u001b[39m\u001b[38;5;241m-\u001b[39m\u001b[38;5;241m4\u001b[39m \u001b[38;5;241m*\u001b[39m \u001b[38;5;28mself\u001b[39m\u001b[38;5;241m.\u001b[39m_Vrms,\n\u001b[0;32m   (...)\u001b[0m\n\u001b[1;32m     44\u001b[0m                                     trigger_name\u001b[38;5;241m=\u001b[39m\u001b[38;5;124m'\u001b[39m\u001b[38;5;124mLPDA_2of4_4.1sigma\u001b[39m\u001b[38;5;124m'\u001b[39m,\n\u001b[1;32m     45\u001b[0m                                     set_not_triggered\u001b[38;5;241m=\u001b[39m(\u001b[38;5;129;01mnot\u001b[39;00m station\u001b[38;5;241m.\u001b[39mhas_triggered(\u001b[38;5;124m\"\u001b[39m\u001b[38;5;124msimple_threshold\u001b[39m\u001b[38;5;124m\"\u001b[39m)))  \u001b[38;5;66;03m# calculate more time consuming ARIANNA trigger only if station passes simple trigger\u001b[39;00m\n\u001b[1;32m     47\u001b[0m \u001b[38;5;28;01mif\u001b[39;00m default \u001b[38;5;129;01mis\u001b[39;00m \u001b[38;5;28;01mTrue\u001b[39;00m:\n\u001b[0;32m---> 48\u001b[0m     sim \u001b[38;5;241m=\u001b[39m \u001b[43mmySimulation\u001b[49m\u001b[43m(\u001b[49m\u001b[43minputfilename\u001b[49m\u001b[38;5;241;43m=\u001b[39;49m\u001b[38;5;124;43m'\u001b[39;49m\u001b[38;5;124;43m1e19_n1e3.hdf5\u001b[39;49m\u001b[38;5;124;43m'\u001b[39;49m\u001b[43m,\u001b[49m\n\u001b[1;32m     49\u001b[0m \u001b[43m                            \u001b[49m\u001b[43moutputfilename\u001b[49m\u001b[38;5;241;43m=\u001b[39;49m\u001b[38;5;124;43m'\u001b[39;49m\u001b[38;5;124;43mstation.json\u001b[39;49m\u001b[38;5;124;43m'\u001b[39;49m\u001b[43m,\u001b[49m\n\u001b[1;32m     50\u001b[0m \u001b[43m                            \u001b[49m\u001b[43mdetectorfile\u001b[49m\u001b[38;5;241;43m=\u001b[39;49m\u001b[38;5;124;43m'\u001b[39;49m\u001b[38;5;124;43mconfig.yaml\u001b[39;49m\u001b[38;5;124;43m'\u001b[39;49m\u001b[43m,\u001b[49m\n\u001b[1;32m     51\u001b[0m \u001b[43m                            \u001b[49m\u001b[43moutputfilenameNuRadioReco\u001b[49m\u001b[38;5;241;43m=\u001b[39;49m\u001b[38;5;124;43m'\u001b[39;49m\u001b[38;5;124;43moutput.hdf5\u001b[39;49m\u001b[38;5;124;43m'\u001b[39;49m\u001b[43m,\u001b[49m\n\u001b[1;32m     52\u001b[0m \u001b[43m                            \u001b[49m\u001b[43mconfig_file\u001b[49m\u001b[38;5;241;43m=\u001b[39;49m\u001b[38;5;124;43m'\u001b[39;49m\u001b[38;5;124;43moutput.nur\u001b[39;49m\u001b[38;5;124;43m'\u001b[39;49m\u001b[43m,\u001b[49m\n\u001b[1;32m     53\u001b[0m \u001b[43m                            \u001b[49m\u001b[43mfile_overwrite\u001b[49m\u001b[38;5;241;43m=\u001b[39;49m\u001b[38;5;28;43;01mTrue\u001b[39;49;00m\u001b[43m)\u001b[49m\n\u001b[1;32m     54\u001b[0m     sim\u001b[38;5;241m.\u001b[39mrun()\n\u001b[1;32m     55\u001b[0m \u001b[38;5;28;01melse\u001b[39;00m:\n",
      "File \u001b[0;32m~/lib/python3.12/site-packages/NuRadioMC/simulation/simulation.py:163\u001b[0m, in \u001b[0;36msimulation.__init__\u001b[0;34m(self, inputfilename, outputfilename, detectorfile, det, det_kwargs, outputfilenameNuRadioReco, debug, evt_time, config_file, log_level, default_detector_station, default_detector_channel, file_overwrite, write_detector, event_list, log_level_propagation, ice_model, **kwargs)\u001b[0m\n\u001b[1;32m    161\u001b[0m \u001b[38;5;28;01mif\u001b[39;00m config_file \u001b[38;5;129;01mis\u001b[39;00m \u001b[38;5;129;01mnot\u001b[39;00m \u001b[38;5;28;01mNone\u001b[39;00m:\n\u001b[1;32m    162\u001b[0m     logger\u001b[38;5;241m.\u001b[39mstatus(\u001b[38;5;124m'\u001b[39m\u001b[38;5;124mreading local config overrides from \u001b[39m\u001b[38;5;132;01m{}\u001b[39;00m\u001b[38;5;124m'\u001b[39m\u001b[38;5;241m.\u001b[39mformat(config_file))\n\u001b[0;32m--> 163\u001b[0m     \u001b[38;5;28;01mwith\u001b[39;00m \u001b[38;5;28;43mopen\u001b[39;49m\u001b[43m(\u001b[49m\u001b[43mconfig_file\u001b[49m\u001b[43m,\u001b[49m\u001b[43m \u001b[49m\u001b[38;5;124;43m'\u001b[39;49m\u001b[38;5;124;43mr\u001b[39;49m\u001b[38;5;124;43m'\u001b[39;49m\u001b[43m)\u001b[49m \u001b[38;5;28;01mas\u001b[39;00m ymlfile:\n\u001b[1;32m    164\u001b[0m         local_config \u001b[38;5;241m=\u001b[39m yaml\u001b[38;5;241m.\u001b[39mload(ymlfile, Loader\u001b[38;5;241m=\u001b[39myaml\u001b[38;5;241m.\u001b[39mFullLoader)\n\u001b[1;32m    165\u001b[0m         new_cfg \u001b[38;5;241m=\u001b[39m merge_config(local_config, \u001b[38;5;28mself\u001b[39m\u001b[38;5;241m.\u001b[39m_cfg)\n",
      "\u001b[0;31mFileNotFoundError\u001b[0m: [Errno 2] No such file or directory: 'output.nur'"
     ]
    }
   ],
   "source": [
    "from __future__ import absolute_import, division, print_function\n",
    "import argparse\n",
    "# import detector simulation modules\n",
    "import NuRadioReco.modules.trigger.highLowThreshold\n",
    "import NuRadioReco.modules.trigger.simpleThreshold\n",
    "import NuRadioReco.modules.channelBandPassFilter\n",
    "from NuRadioReco.utilities import units\n",
    "from NuRadioMC.simulation import simulation\n",
    "\n",
    "# Setup logging\n",
    "from NuRadioReco.utilities.logging import setup_logger\n",
    "logger = setup_logger(name=\"\")\n",
    "\n",
    "# initialize detector sim modules\n",
    "simpleThreshold = NuRadioReco.modules.trigger.simpleThreshold.triggerSimulator()\n",
    "highLowThreshold = NuRadioReco.modules.trigger.highLowThreshold.triggerSimulator()\n",
    "channelBandPassFilter = NuRadioReco.modules.channelBandPassFilter.channelBandPassFilter()\n",
    "\n",
    "# Set to true for default simulation. IF FALSE WILL NOT RUN IN ipynb!\n",
    "default = True\n",
    "\n",
    "class mySimulation(simulation.simulation):\n",
    "\n",
    "    def _detector_simulation_filter_amp(self, evt, station, det):\n",
    "        channelBandPassFilter.run(evt, station, det, passband=[80 * units.MHz, 1000 * units.GHz],\n",
    "                                  filter_type='butter', order=2)\n",
    "        channelBandPassFilter.run(evt, station, det, passband=[0, 500 * units.MHz],\n",
    "                                  filter_type='butter', order=10)\n",
    "\n",
    "    def _detector_simulation_trigger(self, evt, station, det):\n",
    "        # first run a simple threshold trigger\n",
    "        simpleThreshold.run(evt, station, det,\n",
    "                             threshold=3 * self._Vrms,\n",
    "                             triggered_channels=None,  # run trigger on all channels\n",
    "                             number_concidences=1,\n",
    "                             trigger_name='simple_threshold')  # the name of the trigger\n",
    "\n",
    "        # run a high/low trigger on the 4 downward pointing LPDAs\n",
    "        highLowThreshold.run(evt, station, det,\n",
    "                                    threshold_high=4 * self._Vrms,\n",
    "                                    threshold_low=-4 * self._Vrms,\n",
    "                                    triggered_channels=[0, 1, 2, 3],  # select the LPDA channels\n",
    "                                    number_concidences=2,  # 2/4 majority logic\n",
    "                                    trigger_name='LPDA_2of4_4.1sigma',\n",
    "                                    set_not_triggered=(not station.has_triggered(\"simple_threshold\")))  # calculate more time consuming ARIANNA trigger only if station passes simple trigger\n",
    "\n",
    "if default is True:\n",
    "    sim = mySimulation(inputfilename='1e19_n1e3.hdf5',\n",
    "                            outputfilename='station.json',\n",
    "                            detectorfile='config.yaml',\n",
    "                            outputfilenameNuRadioReco='output.hdf5',\n",
    "                            config_file='output.nur',\n",
    "                            file_overwrite=True)\n",
    "    sim.run()\n",
    "else:\n",
    "    parser = argparse.ArgumentParser(description='Run NuRadioMC simulation')\n",
    "    parser.add_argument('inputfilename', type=str,\n",
    "                        help='path to NuRadioMC input event list')\n",
    "    parser.add_argument('detectordescription', type=str,\n",
    "                        help='path to file containing the detector description')\n",
    "    parser.add_argument('config', type=str,\n",
    "                        help='NuRadioMC yaml config file')\n",
    "    parser.add_argument('outputfilename', type=str,\n",
    "                        help='hdf5 output filename')\n",
    "    parser.add_argument('outputfilenameNuRadioReco', type=str, nargs='?', default=None,\n",
    "                        help='outputfilename of NuRadioReco detector sim file')\n",
    "    args = parser.parse_args()\n",
    "\n",
    "    if __name__ == \"__main__\":\n",
    "        sim = mySimulation(inputfilename=args.inputfilename,\n",
    "                                    outputfilename=args.outputfilename,\n",
    "                                    detectorfile=args.detectordescription,\n",
    "                                    outputfilenameNuRadioReco=args.outputfilenameNuRadioReco,\n",
    "                                    config_file=args.config,\n",
    "                                    file_overwrite=True)\n",
    "        sim.run() "
   ]
  }
 ],
 "metadata": {
  "kernelspec": {
   "display_name": "ssued",
   "language": "python",
   "name": "python3"
  },
  "language_info": {
   "codemirror_mode": {
    "name": "ipython",
    "version": 3
   },
   "file_extension": ".py",
   "mimetype": "text/x-python",
   "name": "python",
   "nbconvert_exporter": "python",
   "pygments_lexer": "ipython3",
   "version": "3.12.2"
  }
 },
 "nbformat": 4,
 "nbformat_minor": 2
}
