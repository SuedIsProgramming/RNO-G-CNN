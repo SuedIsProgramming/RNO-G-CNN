{
 "cells": [
  {
   "cell_type": "code",
   "execution_count": 3,
   "metadata": {},
   "outputs": [],
   "source": [
    "from scipy.signal import hilbert\n",
    "import matplotlib.pyplot as plt\n",
    "import numpy as np\n",
    "import pickle\n",
    "import os"
   ]
  },
  {
   "cell_type": "markdown",
   "metadata": {},
   "source": [
    "### FUNCTIONS:"
   ]
  },
  {
   "cell_type": "code",
   "execution_count": 4,
   "metadata": {},
   "outputs": [],
   "source": [
    "def shift_relative_time(event, plot=False):\n",
    "    \"\"\"\n",
    "    Shift all channels in an event by the value of the first trigger signal time.\n",
    "\n",
    "    NOTE: Might be too expensive, as you have to search throughout all of the time arrays to find the minimum time value.\n",
    "    Perhaps its better to not search? Looking at the generated voltage vs. time arrays, all channel seem to have the same starting time?\n",
    "\n",
    "    Parameters:\n",
    "    event (np.array): Event containing channels with voltage vs. time arrays.\n",
    "    plot (bool): If True, generates before and after subplots (for debugging purposes).\n",
    "    \"\"\"\n",
    "    \n",
    "    # Plot before the shift, if requested\n",
    "    if plot:\n",
    "        _, ax = plt.subplots(1, 2, figsize=(10, 5))\n",
    "        ax[0].plot(event[0][0], event[0][1])\n",
    "        ax[0].set_title('Before Shift')\n",
    "        ax[0].set_xlabel('Time')\n",
    "        ax[0].set_ylabel('Voltage')\n",
    "\n",
    "    # Find the minimum time across all channels\n",
    "    min_time = min(np.min(channel[0]) for channel in event)\n",
    "\n",
    "    # Subtract min_time from the time values of each channel\n",
    "    for channel in event:\n",
    "        channel[0] -= min_time\n",
    "\n",
    "    # Plot after the shift, if requested\n",
    "    if plot:\n",
    "        ax[1].plot(event[0][0], event[0][1])\n",
    "        ax[1].set_title('After Shift')\n",
    "        ax[1].set_xlabel('Time (ns)')\n",
    "        ax[1].set_ylabel('Voltage (V)')\n",
    "        plt.tight_layout()\n",
    "        plt.savefig('Before_and_after_shift.png')"
   ]
  },
  {
   "cell_type": "code",
   "execution_count": 5,
   "metadata": {},
   "outputs": [],
   "source": [
    "def bin_v(channel, nbins, hilbert = False, method='max', plot=False):\n",
    "    \"\"\"\n",
    "    Bin voltage vs. time data. The bin values are calculated according to different methods.\n",
    "\n",
    "    A big issue is that if the different channels effectively HAVE different time domains, then the different channels will contain\n",
    "    different bin sizes. We could make all bins the same size, but then graphs will have more or less bins, or we could keep it like this.\n",
    "    Parameters:\n",
    "    channel (np.array): Channel array containing two numpy arrays of time (pos [0]) and voltage (pos [1]).\n",
    "    method (str): Modifies bin values according to the method. \n",
    "                  'max' - Bins Hilbert envelope according to the local maximum of their respective time bins.\n",
    "                  'avg' - Bins Hilbert envelope according to the average of their respective time bins.\n",
    "    plot (bool): If True, plots the original Hilbert envelope and the binned data.\n",
    "\n",
    "    Returns:\n",
    "    np.array: Binned time array\n",
    "    np.array: Binned Hilbert envelope array\n",
    "    float: Time of a bin.\n",
    "    \"\"\"\n",
    "    \n",
    "    time_arr = channel[0]\n",
    "    voltage_arr = channel[1]\n",
    "\n",
    "    if hilbert is True:\n",
    "        # Obtain Hilbert envelope\n",
    "        v_arr = np.abs(hilbert(voltage_arr))\n",
    "    else:\n",
    "        v_arr = voltage_arr\n",
    "\n",
    "    bin_width = len(voltage_arr) // nbins\n",
    "    bin_dt = time_arr[bin_width]-time_arr[0]\n",
    "    binned_time = time_arr[:nbins * bin_width:bin_width]\n",
    "\n",
    "    if method == 'max':\n",
    "        binned = np.array([np.max(v_arr[i:i+bin_width]) for i in range(0, nbins * bin_width, bin_width)])\n",
    "    elif method == 'avg':\n",
    "        binned = np.array([np.mean(v_arr[i:i+bin_width]) for i in range(0, nbins * bin_width, bin_width)])\n",
    "    else:\n",
    "        raise ValueError(f\"Invalid method '{method}'. Use 'max' or 'avg'.\")\n",
    "\n",
    "    if plot:\n",
    "        plt.figure(figsize=(12, 6))\n",
    "        plt.plot(time_arr, v_arr, label='Original Hilbert Envelope', alpha=0.7)\n",
    "        plt.plot(binned_time, binned, 'o-', label=f'Binned Hilbert Envelope ({method})', color='red')\n",
    "        plt.xlabel(f'Time (ns), one bin = {bin_dt} ns')\n",
    "        plt.ylabel('Hilbert Envelope (V)')\n",
    "        plt.title('Original vs Binned Hilbert Envelope')\n",
    "        plt.legend()\n",
    "        plt.grid(True)\n",
    "        plt.savefig('Original vs Binned Hilbert Envelope.png')\n",
    "\n",
    "    return binned_time, binned, bin_dt"
   ]
  },
  {
   "cell_type": "code",
   "execution_count": 6,
   "metadata": {},
   "outputs": [],
   "source": [
    "def calculate_noise(voltage_arr, plot=False):\n",
    "    \"\"\"\n",
    "    Calculate the RMS noise of a voltage array and optionally plot the voltage data.\n",
    "\n",
    "    The noise is calculated by:\n",
    "    1. Identifying the peak signal (maximum value) in the array.\n",
    "    2. Defining a range around the peak, covering 25% of the array's length to the left and right of the peak.\n",
    "    3. Extracting the noise subarrays from the portions of the array outside this range.\n",
    "    4. Calculating the RMS noise from the concatenated noise subarrays.\n",
    "\n",
    "    Parameters:\n",
    "    voltage_arr (np.array): Array of voltage values.\n",
    "    plot (bool): If True, plots the voltage data with noise range markers (For debugging purposes).\n",
    "\n",
    "    Returns:\n",
    "    float: The RMS noise value.\n",
    "    \"\"\"\n",
    "    \n",
    "    peak_idx = np.argmax(voltage_arr)\n",
    "    quarter_len = len(voltage_arr) // 4\n",
    "\n",
    "    # Define the range around the peak signal\n",
    "    left_idx = max(0, peak_idx - quarter_len)\n",
    "    right_idx = min(len(voltage_arr), peak_idx + quarter_len)\n",
    "\n",
    "    # Extract noise subarrays and concatenate them\n",
    "    noise_subarray = np.concatenate((voltage_arr[:left_idx], voltage_arr[right_idx:]))\n",
    "\n",
    "    # Calculate RMS noise\n",
    "    rms_noise = np.sqrt(np.mean(noise_subarray ** 2))\n",
    "\n",
    "    # For testing purposes:\n",
    "    if plot:\n",
    "        # Plotting the original voltage data\n",
    "        plt.figure(figsize=(10, 6))\n",
    "        plt.plot(voltage_arr, label='Voltage Data', color='blue')\n",
    "        \n",
    "        # Mark the start and end indices of the noise range\n",
    "        plt.axvline(x=left_idx, color='red', linestyle='--', label='Left Noise Index')\n",
    "        plt.axvline(x=right_idx, color='green', linestyle='--', label='Right Noise Index')\n",
    "        \n",
    "        # Highlighting the noise areas on the plot\n",
    "        plt.fill_between(range(left_idx), voltage_arr[:left_idx], color='red', alpha=0.3)\n",
    "        plt.fill_between(range(right_idx, len(voltage_arr)), voltage_arr[right_idx:], color='green', alpha=0.3)\n",
    "        \n",
    "        plt.xlabel('Index')\n",
    "        plt.ylabel('Voltage (V)')\n",
    "        plt.title('Voltage Data with Noise Range')\n",
    "        plt.legend()\n",
    "        plt.grid(True)\n",
    "        plt.savefig('Voltage Data with Noise Range.png')\n",
    "\n",
    "    return rms_noise"
   ]
  },
  {
   "cell_type": "code",
   "execution_count": 15,
   "metadata": {},
   "outputs": [],
   "source": [
    "def bin_matrix(event,bins = 25, plotting = False, hilb = False):\n",
    "    row1 = bin_v(event['data'][0],bins, hilbert = hilb)[1]\n",
    "    row2 = bin_v(event['data'][1],bins, hilbert = hilb)[1]\n",
    "    row3 = bin_v(event['data'][2],bins, hilbert = hilb)[1]\n",
    "    row4 = bin_v(event['data'][3],bins, hilbert = hilb)[1]\n",
    "    bintime = row1[3]\n",
    "    bintime_ns = bintime*(10**6)\n",
    "    matrix = np.array([row1,row2,row3,row4])\n",
    "\n",
    "    binned_dict = {'data' : matrix, 'bintime' : bintime_ns}\n",
    "\n",
    "    if plotting:\n",
    "        plt.figure(figsize=(10, 6))\n",
    "        # Creating the heatmap\n",
    "        plt.imshow(matrix, cmap='viridis', interpolation='nearest',aspect=5)\n",
    "        plt.colorbar()  # adding color bar to show the scale\n",
    "        plt.title(\"Heatmap of voltage on 4 channels\")\n",
    "        plt.xlabel(f\"Bin Value:{bintime_ns: .3g} ns    ;    Mean SNR:{event['mean_integrated_power']: .3g}\")\n",
    "        y_ticks = [0, 1, 2, 3]  # Custom y-tick positions\n",
    "        y_labels = ['Channel 1', 'Channel 2', 'Channel 3', 'Channel 4']  # Custom y-tick labels\n",
    "        plt.yticks(y_ticks, y_labels)\n",
    "        plt.show()\n",
    "\n",
    "    return binned_dict"
   ]
  },
  {
   "cell_type": "code",
   "execution_count": 27,
   "metadata": {},
   "outputs": [
    {
     "name": "stdout",
     "output_type": "stream",
     "text": [
      "[[1. 2. 3.]\n",
      " [4. 5. 6.]\n",
      " [7. 8. 9.]]\n"
     ]
    }
   ],
   "source": [
    "import numpy as np\n",
    "\n",
    "# Define the arrays\n",
    "arrays = [\n",
    "    np.array([1, 2, 3]),\n",
    "    np.array([4, 5, 6]),\n",
    "    np.array([7, 8, 9]),\n",
    "]\n",
    "\n",
    "# Create an empty matrix with zero rows and the same number of columns\n",
    "M = np.empty((0, 3))\n",
    "\n",
    "# Progressively stack the arrays\n",
    "for arr in arrays:\n",
    "    M = np.vstack((M, arr))\n",
    "\n",
    "print(M)\n",
    "\n",
    "\n"
   ]
  },
  {
   "cell_type": "code",
   "execution_count": 49,
   "metadata": {},
   "outputs": [],
   "source": [
    "def plot_image(event):\n",
    "    matrix = event['data']\n",
    "    bintime_ns = event['bin_time']\n",
    "\n",
    "    plt.figure(figsize=(10, 6))\n",
    "    # Creating the heatmap\n",
    "    plt.imshow(matrix, cmap='viridis', interpolation='nearest',aspect=5)\n",
    "    plt.colorbar()  # adding color bar to show the scale\n",
    "    plt.title(\"Heatmap of voltage on 4 channels\")\n",
    "    plt.xlabel(f\"Bin Value:{bintime_ns: .3g} ns    ;    Mean SNR:{event['mean_SNR']: .3g}\")\n",
    "    y_ticks = [0, 1, 2, 3]  # Custom y-tick positions\n",
    "    y_labels = ['Channel 1', 'Channel 2', 'Channel 3', 'Channel 4']  # Custom y-tick labels\n",
    "    plt.yticks(y_ticks, y_labels)\n",
    "    plt.show()\n"
   ]
  },
  {
   "cell_type": "code",
   "execution_count": 9,
   "metadata": {},
   "outputs": [],
   "source": [
    "import os\n",
    "import pickle\n",
    "\n",
    "event_data_to_append = {}\n",
    "\n",
    "def save_events(file_path='data/event_data.pkl',events_in=None):\n",
    "    \"\"\"\n",
    "    Save events in a dictionary. If a dictionary already exists, it will append the events to the end of the dictionary.\n",
    "    Otherwise, it will create the pickled dictionary in the file_path.\n",
    "\n",
    "    Parameters:\n",
    "    file_path (String) location of dictionary, or location where to create it.\n",
    "    events_in (dict) python dictionary from which to append the events or to save.\n",
    "    \"\"\"\n",
    "    # Check if the file exists\n",
    "    if os.path.exists(file_path):\n",
    "        # Load and return the dictionary\n",
    "        with open(file_path, 'rb') as file:\n",
    "            event_dict = pickle.load(file)\n",
    "\n",
    "        start_i = max(event_dict.keys())\n",
    "\n",
    "        # Function to shift keys by a given number\n",
    "        def shift_keys(d, shift_amount):\n",
    "            return {k + shift_amount: v for k, v in d.items()}\n",
    "        \n",
    "        shifted_events_in = shift_keys(events_in,start_i+1)\n",
    "        new_event_dict = {**event_dict, **shifted_events_in}\n",
    "\n",
    "        with open(file_path, 'wb') as file:\n",
    "            pickle.dump(new_event_dict, file)\n",
    "    else:\n",
    "        # Save the event dictionary to file\n",
    "        with open(file_path, 'wb') as file:\n",
    "            pickle.dump(events_in, file)"
   ]
  },
  {
   "cell_type": "code",
   "execution_count": 10,
   "metadata": {},
   "outputs": [],
   "source": [
    "def calculate_SNR(matrix, plot = False):\n",
    "    SNR = 0\n",
    "    for i,channel in enumerate(matrix):\n",
    "        SNR += np.max(channel)/calculate_noise(channel, plot)\n",
    "\n",
    "    SNR_mean = SNR/4\n",
    "\n",
    "    return SNR_mean"
   ]
  },
  {
   "cell_type": "code",
   "execution_count": 11,
   "metadata": {},
   "outputs": [],
   "source": [
    "def plot_raw(event):\n",
    "    # Create subplots: 2 rows, 2 columns (for 4 channels)\n",
    "    fig, axes = plt.subplots(2, 2, figsize=(10, 10))\n",
    "    axes = axes.flatten()  # Flatten the axes array for easier indexing\n",
    "\n",
    "    event = event['data']\n",
    "\n",
    "    # Loop through the first 4 channels and plot their data\n",
    "    for i,ch in enumerate(event):  # Assuming there are at least 4 channels\n",
    "        time = ch[0]  # Time values for the channel\n",
    "        voltage = ch[1]  # Voltage values for the channel\n",
    "\n",
    "        # Plot the time vs voltage for each channel in the appropriate subplot\n",
    "        axes[i].plot(time, voltage)\n",
    "        axes[i].set_title(f'Channel {i + 1}')\n",
    "        axes[i].set_xlabel('Time (s)')\n",
    "        axes[i].set_ylabel('Voltage (V)')\n",
    "    \n",
    "    # Adjust layout to avoid overlapping labels\n",
    "    plt.tight_layout()\n",
    "    plt.show()\n",
    "\n",
    "# Example usage with event data\n",
    "# event = [ [ [time1, voltage1], [time2, voltage2], ... ], ... ]\n"
   ]
  },
  {
   "cell_type": "markdown",
   "metadata": {},
   "source": [
    "### TESTING:"
   ]
  },
  {
   "cell_type": "code",
   "execution_count": null,
   "metadata": {},
   "outputs": [
    {
     "data": {
      "image/png": "[encoded data removed]",
      "text/plain": [
       "<Figure size 1000x600 with 2 Axes>"
      ]
     },
     "metadata": {},
     "output_type": "display_data"
    },
    {
     "ename": "KeyError",
     "evalue": "'mean_SNR'",
     "output_type": "error",
     "traceback": [
      "\u001b[0;31m---------------------------------------------------------------------------\u001b[0m",
      "\u001b[0;31mKeyError\u001b[0m                                  Traceback (most recent call last)",
      "Cell \u001b[0;32mIn[56], line 8\u001b[0m\n\u001b[1;32m      5\u001b[0m     trace \u001b[38;5;241m=\u001b[39m pickle\u001b[38;5;241m.\u001b[39mload(file)\n\u001b[1;32m      7\u001b[0m plot_image(trace[\u001b[38;5;241m0\u001b[39m])\n\u001b[0;32m----> 8\u001b[0m \u001b[43mplot_image\u001b[49m\u001b[43m(\u001b[49m\u001b[43mbinned_trace\u001b[49m\u001b[43m[\u001b[49m\u001b[38;5;241;43m0\u001b[39;49m\u001b[43m]\u001b[49m\u001b[43m)\u001b[49m\n",
      "Cell \u001b[0;32mIn[49], line 10\u001b[0m, in \u001b[0;36mplot_image\u001b[0;34m(event)\u001b[0m\n\u001b[1;32m      8\u001b[0m plt\u001b[38;5;241m.\u001b[39mcolorbar()  \u001b[38;5;66;03m# adding color bar to show the scale\u001b[39;00m\n\u001b[1;32m      9\u001b[0m plt\u001b[38;5;241m.\u001b[39mtitle(\u001b[38;5;124m\"\u001b[39m\u001b[38;5;124mHeatmap of voltage on 4 channels\u001b[39m\u001b[38;5;124m\"\u001b[39m)\n\u001b[0;32m---> 10\u001b[0m plt\u001b[38;5;241m.\u001b[39mxlabel(\u001b[38;5;124mf\u001b[39m\u001b[38;5;124m\"\u001b[39m\u001b[38;5;124mBin Value:\u001b[39m\u001b[38;5;132;01m{\u001b[39;00mbintime_ns\u001b[38;5;132;01m:\u001b[39;00m\u001b[38;5;124m .3g\u001b[39m\u001b[38;5;132;01m}\u001b[39;00m\u001b[38;5;124m ns    ;    Mean SNR:\u001b[39m\u001b[38;5;132;01m{\u001b[39;00m\u001b[43mevent\u001b[49m\u001b[43m[\u001b[49m\u001b[38;5;124;43m'\u001b[39;49m\u001b[38;5;124;43mmean_SNR\u001b[39;49m\u001b[38;5;124;43m'\u001b[39;49m\u001b[43m]\u001b[49m\u001b[38;5;132;01m:\u001b[39;00m\u001b[38;5;124m .3g\u001b[39m\u001b[38;5;132;01m}\u001b[39;00m\u001b[38;5;124m\"\u001b[39m)\n\u001b[1;32m     11\u001b[0m y_ticks \u001b[38;5;241m=\u001b[39m [\u001b[38;5;241m0\u001b[39m, \u001b[38;5;241m1\u001b[39m, \u001b[38;5;241m2\u001b[39m, \u001b[38;5;241m3\u001b[39m]  \u001b[38;5;66;03m# Custom y-tick positions\u001b[39;00m\n\u001b[1;32m     12\u001b[0m y_labels \u001b[38;5;241m=\u001b[39m [\u001b[38;5;124m'\u001b[39m\u001b[38;5;124mChannel 1\u001b[39m\u001b[38;5;124m'\u001b[39m, \u001b[38;5;124m'\u001b[39m\u001b[38;5;124mChannel 2\u001b[39m\u001b[38;5;124m'\u001b[39m, \u001b[38;5;124m'\u001b[39m\u001b[38;5;124mChannel 3\u001b[39m\u001b[38;5;124m'\u001b[39m, \u001b[38;5;124m'\u001b[39m\u001b[38;5;124mChannel 4\u001b[39m\u001b[38;5;124m'\u001b[39m]  \u001b[38;5;66;03m# Custom y-tick labels\u001b[39;00m\n",
      "\u001b[0;31mKeyError\u001b[0m: 'mean_SNR'"
     ]
    },
    {
     "data": {
      "image/png": "[encoded data removed]",
      "text/plain": [
       "<Figure size 1000x600 with 2 Axes>"
      ]
     },
     "metadata": {},
     "output_type": "display_data"
    }
   ],
   "source": [
    "with open('data/binned_event_dict.pkl','rb') as file:\n",
    "    binned_trace = pickle.load(file)\n",
    "\n",
    "with open('data/event_dict.pkl', 'rb') as file:\n",
    "    trace = pickle.load(file)\n",
    "\n",
    "plot_image(trace[0])"
   ]
  },
  {
   "cell_type": "code",
   "execution_count": 13,
   "metadata": {},
   "outputs": [
    {
     "ename": "KeyError",
     "evalue": "8",
     "output_type": "error",
     "traceback": [
      "\u001b[0;31m---------------------------------------------------------------------------\u001b[0m",
      "\u001b[0;31mKeyError\u001b[0m                                  Traceback (most recent call last)",
      "Cell \u001b[0;32mIn[13], line 9\u001b[0m\n\u001b[1;32m      6\u001b[0m trace[\u001b[38;5;241m0\u001b[39m]\u001b[38;5;241m.\u001b[39mkeys()\n\u001b[1;32m      8\u001b[0m \u001b[38;5;66;03m#plot_raw(trace[8])\u001b[39;00m\n\u001b[0;32m----> 9\u001b[0m binned_trace \u001b[38;5;241m=\u001b[39m bin_matrix(\u001b[43mtrace\u001b[49m\u001b[43m[\u001b[49m\u001b[38;5;241;43m8\u001b[39;49m\u001b[43m]\u001b[49m,\u001b[38;5;241m50\u001b[39m,\u001b[38;5;28;01mFalse\u001b[39;00m)\n\u001b[1;32m     11\u001b[0m \u001b[38;5;28mprint\u001b[39m(binned_trace[\u001b[38;5;124m'\u001b[39m\u001b[38;5;124mdata\u001b[39m\u001b[38;5;124m'\u001b[39m]\u001b[38;5;241m.\u001b[39mshape)\n",
      "\u001b[0;31mKeyError\u001b[0m: 8"
     ]
    }
   ],
   "source": [
    "with open('data/event_dict.pkl', 'rb') as file:\n",
    "    trace = pickle.load(file)\n",
    "\n",
    "trace.keys()\n",
    "\n",
    "trace[0].keys()\n",
    "\n",
    "#plot_raw(trace[8])\n",
    "binned_trace = bin_matrix(trace[8],50,False)\n",
    "\n",
    "print(binned_trace['data'].shape)"
   ]
  },
  {
   "cell_type": "code",
   "execution_count": null,
   "metadata": {},
   "outputs": [
    {
     "ename": "NameError",
     "evalue": "name 'trace2' is not defined",
     "output_type": "error",
     "traceback": [
      "\u001b[0;31m---------------------------------------------------------------------------\u001b[0m",
      "\u001b[0;31mNameError\u001b[0m                                 Traceback (most recent call last)",
      "Cell \u001b[0;32mIn[13], line 1\u001b[0m\n\u001b[0;32m----> 1\u001b[0m matrix \u001b[38;5;241m=\u001b[39m bin_matrix(\u001b[43mtrace2\u001b[49m[\u001b[38;5;241m1\u001b[39m],\u001b[38;5;241m50\u001b[39m,\u001b[38;5;28;01mTrue\u001b[39;00m)\n\u001b[1;32m      2\u001b[0m snr_mean \u001b[38;5;241m=\u001b[39m calculate_SNR(matrix,\u001b[38;5;28;01mTrue\u001b[39;00m)\n\u001b[1;32m      3\u001b[0m \u001b[38;5;28mprint\u001b[39m(snr_mean)\n",
      "\u001b[0;31mNameError\u001b[0m: name 'trace2' is not defined"
     ]
    }
   ],
   "source": [
    "matrix = bin_matrix(trace2[1],50,True)\n",
    "snr_mean = calculate_SNR(matrix,True)\n",
    "print(snr_mean)"
   ]
  },
  {
   "cell_type": "code",
   "execution_count": null,
   "metadata": {},
   "outputs": [
    {
     "data": {
      "text/plain": [
       "(4, 2, 672)"
      ]
     },
     "execution_count": 11,
     "metadata": {},
     "output_type": "execute_result"
    }
   ],
   "source": [
    "# Function testing block\n",
    "\n",
    "with open('data/saved_dictionary.pkl', 'rb') as file:\n",
    "    trace1 = pickle.load(file) # WARNING: The pickle module is not secure. Only unpickle data you trust.\n",
    "\n",
    "# def shift_keys(d, shift_amount):\n",
    "#     return {k + shift_amount: v for k, v in d.items()}\n",
    "\n",
    "# print(tracey)\n",
    "\n",
    "# tracey = shift_keys(tracey,-1)\n",
    "\n",
    "# print(tracey)\n",
    "\n",
    "# with open('data/saved_dictionary.pkl', 'wb') as file:\n",
    "#     pickle.dump(tracey, file) # WARNING: The pickle module is not secure. Only unpickle data you trust.\n",
    "\n",
    "save_events('data/event_dict.pkl',trace1)\n",
    "\n",
    "with open('data/event_dict.pkl','rb') as file:\n",
    "    trace2_changed = pickle.load(file)\n",
    "\n",
    "\n",
    "trace2_changed[0].shape"
   ]
  },
  {
   "cell_type": "code",
   "execution_count": null,
   "metadata": {},
   "outputs": [
    {
     "ename": "NameError",
     "evalue": "name 'event' is not defined",
     "output_type": "error",
     "traceback": [
      "\u001b[0;31m---------------------------------------------------------------------------\u001b[0m",
      "\u001b[0;31mNameError\u001b[0m                                 Traceback (most recent call last)",
      "Cell \u001b[0;32mIn[12], line 4\u001b[0m\n\u001b[1;32m      1\u001b[0m \u001b[38;5;28;01mwith\u001b[39;00m \u001b[38;5;28mopen\u001b[39m(\u001b[38;5;124m'\u001b[39m\u001b[38;5;124mdata/event_dict.pkl\u001b[39m\u001b[38;5;124m'\u001b[39m, \u001b[38;5;124m'\u001b[39m\u001b[38;5;124mrb\u001b[39m\u001b[38;5;124m'\u001b[39m) \u001b[38;5;28;01mas\u001b[39;00m file:\n\u001b[1;32m      2\u001b[0m     event_dict \u001b[38;5;241m=\u001b[39m pickle\u001b[38;5;241m.\u001b[39mload(file)\n\u001b[0;32m----> 4\u001b[0m bin_matrix(\u001b[43mevent\u001b[49m,\u001b[38;5;28mbin\u001b[39m)\n",
      "\u001b[0;31mNameError\u001b[0m: name 'event' is not defined"
     ]
    }
   ],
   "source": [
    "with open('data/event_dict.pkl', 'rb') as file:\n",
    "    event_dict = pickle.load(file)\n",
    "\n",
    "bin_matrix(event,bin)"
   ]
  }
 ],
 "metadata": {
  "kernelspec": {
   "display_name": "ssued",
   "language": "python",
   "name": "python3"
  },
  "language_info": {
   "codemirror_mode": {
    "name": "ipython",
    "version": 3
   },
   "file_extension": ".py",
   "mimetype": "text/x-python",
   "name": "python",
   "nbconvert_exporter": "python",
   "pygments_lexer": "ipython3",
   "version": "3.12.2"
  }
 },
 "nbformat": 4,
 "nbformat_minor": 2
}
