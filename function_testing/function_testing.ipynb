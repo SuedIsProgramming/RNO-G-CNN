{
 "cells": [
  {
   "cell_type": "code",
   "execution_count": 4,
   "metadata": {},
   "outputs": [],
   "source": [
    "from scipy.signal import hilbert\n",
    "import matplotlib.pyplot as plt\n",
    "import numpy as np\n",
    "import pickle\n",
    "import os"
   ]
  },
  {
   "cell_type": "markdown",
   "metadata": {},
   "source": [
    "### FUNCTIONS:"
   ]
  },
  {
   "cell_type": "code",
   "execution_count": 5,
   "metadata": {},
   "outputs": [],
   "source": [
    "def shift_relative_time(event, plot=False):\n",
    "    \"\"\"\n",
    "    Shift all channels in an event by the value of the first trigger signal time.\n",
    "\n",
    "    NOTE: Might be too expensive, as you have to search throughout all of the time arrays to find the minimum time value.\n",
    "    Perhaps its better to not search? Looking at the generated voltage vs. time arrays, all channel seem to have the same starting time?\n",
    "\n",
    "    Parameters:\n",
    "    event (np.array): Event containing channels with voltage vs. time arrays.\n",
    "    plot (bool): If True, generates before and after subplots (for debugging purposes).\n",
    "    \"\"\"\n",
    "    \n",
    "    # Plot before the shift, if requested\n",
    "    if plot:\n",
    "        _, ax = plt.subplots(1, 2, figsize=(10, 5))\n",
    "        ax[0].plot(event[0][0], event[0][1])\n",
    "        ax[0].set_title('Before Shift')\n",
    "        ax[0].set_xlabel('Time')\n",
    "        ax[0].set_ylabel('Voltage')\n",
    "\n",
    "    # Find the minimum time across all channels\n",
    "    min_time = min(np.min(channel[0]) for channel in event)\n",
    "\n",
    "    # Subtract min_time from the time values of each channel\n",
    "    for channel in event:\n",
    "        channel[0] -= min_time\n",
    "\n",
    "    # Plot after the shift, if requested\n",
    "    if plot:\n",
    "        ax[1].plot(event[0][0], event[0][1])\n",
    "        ax[1].set_title('After Shift')\n",
    "        ax[1].set_xlabel('Time (ns)')\n",
    "        ax[1].set_ylabel('Voltage (V)')\n",
    "        plt.tight_layout()\n",
    "        plt.savefig('Before_and_after_shift.png')"
   ]
  },
  {
   "cell_type": "code",
   "execution_count": 6,
   "metadata": {},
   "outputs": [],
   "source": [
    "def bin_hilbert(channel, nbins, method='max', plot=False):\n",
    "    \"\"\"\n",
    "    Bin Hilbert envelope vs. time data. The bin values are calculated according to different methods.\n",
    "\n",
    "    A big issue is that if the different channels effectively HAVE different time domains, then the different channels will contain\n",
    "    different bin sizes. We could make all bins the same size, but then graphs will have more or less bins, or we could keep it like this.\n",
    "    Parameters:\n",
    "    channel (np.array): Channel array containing two numpy arrays of time (pos [0]) and voltage (pos [1]).\n",
    "    method (str): Modifies bin values according to the method. \n",
    "                  'max' - Bins Hilbert envelope according to the local maximum of their respective time bins.\n",
    "                  'avg' - Bins Hilbert envelope according to the average of their respective time bins.\n",
    "    plot (bool): If True, plots the original Hilbert envelope and the binned data.\n",
    "\n",
    "    Returns:\n",
    "    np.array: Binned time array\n",
    "    np.array: Binned Hilbert envelope array\n",
    "    float: Time of a bin.\n",
    "    \"\"\"\n",
    "    \n",
    "    time_arr = channel[0]\n",
    "    voltage_arr = channel[1]\n",
    "\n",
    "    # Obtain Hilbert envelope\n",
    "    hilb_arr = np.abs(hilbert(voltage_arr))\n",
    "    \n",
    "    bin_width = len(voltage_arr) // nbins\n",
    "    bin_dt = time_arr[bin_width]-time_arr[0]\n",
    "    binned_time = time_arr[:nbins * bin_width:bin_width]\n",
    "\n",
    "    if method == 'max':\n",
    "        binned_hilb = np.array([np.max(hilb_arr[i:i+bin_width]) for i in range(0, nbins * bin_width, bin_width)])\n",
    "    elif method == 'avg':\n",
    "        binned_hilb = np.array([np.mean(hilb_arr[i:i+bin_width]) for i in range(0, nbins * bin_width, bin_width)])\n",
    "    else:\n",
    "        raise ValueError(f\"Invalid method '{method}'. Use 'max' or 'avg'.\")\n",
    "\n",
    "    if plot:\n",
    "        plt.figure(figsize=(12, 6))\n",
    "        plt.plot(time_arr, hilb_arr, label='Original Hilbert Envelope', alpha=0.7)\n",
    "        plt.plot(binned_time, binned_hilb, 'o-', label=f'Binned Hilbert Envelope ({method})', color='red')\n",
    "        plt.xlabel(f'Time (ns), one bin = {bin_dt} ns')\n",
    "        plt.ylabel('Hilbert Envelope (V)')\n",
    "        plt.title('Original vs Binned Hilbert Envelope')\n",
    "        plt.legend()\n",
    "        plt.grid(True)\n",
    "        plt.savefig('Original vs Binned Hilbert Envelope.png')\n",
    "\n",
    "    return binned_time, binned_hilb, bin_dt"
   ]
  },
  {
   "cell_type": "code",
   "execution_count": 71,
   "metadata": {},
   "outputs": [],
   "source": [
    "def calculate_noise(voltage_arr, plot=False):\n",
    "    \"\"\"\n",
    "    Calculate the RMS noise of a voltage array and optionally plot the voltage data.\n",
    "\n",
    "    The noise is calculated by:\n",
    "    1. Identifying the peak signal (maximum value) in the array.\n",
    "    2. Defining a range around the peak, covering 25% of the array's length to the left and right of the peak.\n",
    "    3. Extracting the noise subarrays from the portions of the array outside this range.\n",
    "    4. Calculating the RMS noise from the concatenated noise subarrays.\n",
    "\n",
    "    Parameters:\n",
    "    voltage_arr (np.array): Array of voltage values.\n",
    "    plot (bool): If True, plots the voltage data with noise range markers (For debugging purposes).\n",
    "\n",
    "    Returns:\n",
    "    float: The RMS noise value.\n",
    "    \"\"\"\n",
    "    \n",
    "    peak_idx = np.argmax(voltage_arr)\n",
    "    quarter_len = len(voltage_arr) // 4\n",
    "\n",
    "    # Define the range around the peak signal\n",
    "    left_idx = max(0, peak_idx - quarter_len)\n",
    "    right_idx = min(len(voltage_arr), peak_idx + quarter_len)\n",
    "\n",
    "    # Extract noise subarrays and concatenate them\n",
    "    noise_subarray = np.concatenate((voltage_arr[:left_idx], voltage_arr[right_idx:]))\n",
    "\n",
    "    # Calculate RMS noise\n",
    "    rms_noise = np.sqrt(np.mean(noise_subarray ** 2))\n",
    "\n",
    "    # For testing purposes:\n",
    "    if plot:\n",
    "        # Plotting the original voltage data\n",
    "        plt.figure(figsize=(10, 6))\n",
    "        plt.plot(voltage_arr, label='Voltage Data', color='blue')\n",
    "        \n",
    "        # Mark the start and end indices of the noise range\n",
    "        plt.axvline(x=left_idx, color='red', linestyle='--', label='Left Noise Index')\n",
    "        plt.axvline(x=right_idx, color='green', linestyle='--', label='Right Noise Index')\n",
    "        \n",
    "        # Highlighting the noise areas on the plot\n",
    "        plt.fill_between(range(left_idx), voltage_arr[:left_idx], color='red', alpha=0.3)\n",
    "        plt.fill_between(range(right_idx, len(voltage_arr)), voltage_arr[right_idx:], color='green', alpha=0.3)\n",
    "        \n",
    "        plt.xlabel('Index')\n",
    "        plt.ylabel('Voltage (V)')\n",
    "        plt.title('Voltage Data with Noise Range')\n",
    "        plt.legend()\n",
    "        plt.grid(True)\n",
    "        plt.savefig('Voltage Data with Noise Range.png')\n",
    "\n",
    "    return rms_noise"
   ]
  },
  {
   "cell_type": "code",
   "execution_count": 95,
   "metadata": {},
   "outputs": [],
   "source": [
    "def bin_matrix(event,bins = 25, plotting = False):\n",
    "    row1 = bin_hilbert(event[0],bins)[1]\n",
    "    row2 = bin_hilbert(event[1],bins)[1]\n",
    "    row3 = bin_hilbert(event[2],bins)[1]\n",
    "    row4 = bin_hilbert(event[3],bins)[1]\n",
    "    bintime = row1[3]\n",
    "    bintime_ns = bintime*(10**6)\n",
    "    matrix = np.array([row1,row2,row3,row4])\n",
    "\n",
    "    if plotting:\n",
    "        plt.figure(figsize=(10, 6))\n",
    "        # Creating the heatmap\n",
    "        plt.imshow(matrix, cmap='viridis', interpolation='nearest',aspect=5)\n",
    "        plt.colorbar()  # adding color bar to show the scale\n",
    "        plt.title(\"Heatmap of voltage on 4 channels\")\n",
    "        plt.xlabel(f\"Bin Value:{bintime_ns: .3g} ns\")\n",
    "        y_ticks = [0, 1, 2, 3]  # Custom y-tick positions\n",
    "        y_labels = ['Channel 1', 'Channel 2', 'Channel 3', 'Channel 4']  # Custom y-tick labels\n",
    "        plt.yticks(y_ticks, y_labels)\n",
    "        plt.show()\n",
    "\n",
    "    return matrix"
   ]
  },
  {
   "cell_type": "code",
   "execution_count": 8,
   "metadata": {},
   "outputs": [],
   "source": [
    "def plot_image(event, nbins):\n",
    "    \"\"\"\n",
    "    Generates a heat map with the binned Hilbert envelope data of the signal. \n",
    "    The heat map has channel number on the vertical axis, time on the horizontal axis, \n",
    "    and voltage on the color axis.\n",
    "    \n",
    "    Parameters:\n",
    "    event (np.array): Event containing channels with voltage vs. time arrays.\n",
    "    nbins (int): Number of bins for the Hilbert envelope.\n",
    "    \"\"\"\n",
    "    shift_relative_time(event)\n",
    "    voltage_matrix = []\n",
    "    time_bins = []\n",
    "    \n",
    "    for channel in event:\n",
    "        _, voltage_bin, bin_dt = bin_hilbert(channel, nbins, plot=False)\n",
    "        voltage_matrix.append(voltage_bin)\n",
    "        time_bins.append(bin_dt)\n",
    "\n",
    "    # Convert the list of voltage bins to an array\n",
    "    voltage_matrix = np.array(voltage_matrix)\n",
    "    print(voltage_matrix.size) # For debugging purposes\n",
    "\n",
    "    # Plot the heatmap\n",
    "    plt.figure(figsize=(10, 6))\n",
    "    plt.imshow(voltage_matrix, aspect='auto', cmap='viridis', interpolation='nearest')\n",
    "    # Set x and y axis labels\n",
    "    plt.xlabel(f'dt: ({time_bins[0]} ns)')\n",
    "    plt.ylabel('Channel')\n",
    "    plt.colorbar(label='Hilbert Voltage (V)')\n",
    "\n",
    "    # Set y-ticks to show channel numbers\n",
    "    plt.yticks(ticks=np.arange(0, len(event)), labels=np.arange(0, len(event)))\n",
    "\n",
    "    plt.savefig('heatmap_test.png')"
   ]
  },
  {
   "cell_type": "code",
   "execution_count": 9,
   "metadata": {},
   "outputs": [],
   "source": [
    "import os\n",
    "import pickle\n",
    "\n",
    "event_data_to_append = {}\n",
    "\n",
    "def save_events(file_path='data/event_data.pkl',events_in=None):\n",
    "    \"\"\"\n",
    "    Save events in a dictionary. If a dictionary already exists, it will append the events to the end of the dictionary.\n",
    "    Otherwise, it will create the pickled dictionary in the file_path.\n",
    "\n",
    "    Parameters:\n",
    "    file_path (String) location of dictionary, or location where to create it.\n",
    "    events_in (dict) python dictionary from which to append the events or to save.\n",
    "    \"\"\"\n",
    "    # Check if the file exists\n",
    "    if os.path.exists(file_path):\n",
    "        # Load and return the dictionary\n",
    "        with open(file_path, 'rb') as file:\n",
    "            event_dict = pickle.load(file)\n",
    "\n",
    "        start_i = max(event_dict.keys())\n",
    "\n",
    "        # Function to shift keys by a given number\n",
    "        def shift_keys(d, shift_amount):\n",
    "            return {k + shift_amount: v for k, v in d.items()}\n",
    "        \n",
    "        shifted_events_in = shift_keys(events_in,start_i+1)\n",
    "        new_event_dict = {**event_dict, **shifted_events_in}\n",
    "\n",
    "        with open(file_path, 'wb') as file:\n",
    "            pickle.dump(new_event_dict, file)\n",
    "    else:\n",
    "        # Save the event dictionary to file\n",
    "        with open(file_path, 'wb') as file:\n",
    "            pickle.dump(events_in, file)"
   ]
  },
  {
   "cell_type": "markdown",
   "metadata": {},
   "source": [
    "### TESTING:"
   ]
  },
  {
   "cell_type": "code",
   "execution_count": 13,
   "metadata": {},
   "outputs": [
    {
     "name": "stdout",
     "output_type": "stream",
     "text": [
      "dict_keys([0, 1, 2, 3, 4, 5, 6, 7, 8, 9, 10, 11, 12, 13, 14, 15, 16, 17, 18, 19, 20, 21, 22, 23, 24, 25, 26, 27, 28, 29, 30, 31, 32, 33, 34, 35, 36, 37, 38, 39, 40, 41, 42, 43, 44, 45, 46, 47, 48, 49, 50, 51, 52, 53, 54, 55, 56, 57, 58, 59, 60, 61, 62, 63, 64, 65, 66, 67, 68, 69, 70, 71, 72, 73, 74, 75, 76, 77, 78, 79, 80, 81, 82, 83, 84, 85, 86, 87, 88, 89, 90, 91, 92, 93, 94, 95, 96, 97, 98, 99, 100, 101, 102, 103, 104, 105, 106, 107, 108, 109, 110, 111, 112, 113, 114, 115, 116, 117, 118, 119, 120, 121, 122, 123, 124, 125, 126, 127, 128, 129, 130, 131, 132, 133, 134, 135, 136, 137, 138, 139, 140, 141, 142, 143, 144, 145, 146, 147, 148, 149, 150, 151, 152, 153, 154, 155, 156, 157, 158, 159, 160, 161, 162, 163, 164, 165, 166, 167, 168, 169, 170, 171, 172, 173, 174, 175, 176, 177, 178, 179, 180])\n"
     ]
    }
   ],
   "source": [
    "with open('data/saved_dictionary.pkl', 'rb') as file:\n",
    "    trace1 = pickle.load(file)\n",
    "\n",
    "with open('data/event_dict.pkl','rb') as file:\n",
    "    trace2 = pickle.load(file)\n",
    "\n",
    "print(trace2.keys())"
   ]
  },
  {
   "cell_type": "code",
   "execution_count": 96,
   "metadata": {},
   "outputs": [
    {
     "data": {
      "image/png": "[encoded data removed]",
      "text/plain": [
       "<Figure size 1000x600 with 2 Axes>"
      ]
     },
     "metadata": {},
     "output_type": "display_data"
    },
    {
     "name": "stdout",
     "output_type": "stream",
     "text": [
      "(4, 50)\n"
     ]
    }
   ],
   "source": [
    "matrix = bin_matrix(trace2[1],50,True)\n",
    "\n",
    "print(matrix.shape)"
   ]
  },
  {
   "cell_type": "code",
   "execution_count": 15,
   "metadata": {},
   "outputs": [
    {
     "data": {
      "text/plain": [
       "(4, 2, 672)"
      ]
     },
     "execution_count": 15,
     "metadata": {},
     "output_type": "execute_result"
    }
   ],
   "source": [
    "# Function testing block\n",
    "\n",
    "with open('data/saved_dictionary.pkl', 'rb') as file:\n",
    "    trace1 = pickle.load(file) # WARNING: The pickle module is not secure. Only unpickle data you trust.\n",
    "\n",
    "# def shift_keys(d, shift_amount):\n",
    "#     return {k + shift_amount: v for k, v in d.items()}\n",
    "\n",
    "# print(tracey)\n",
    "\n",
    "# tracey = shift_keys(tracey,-1)\n",
    "\n",
    "# print(tracey)\n",
    "\n",
    "# with open('data/saved_dictionary.pkl', 'wb') as file:\n",
    "#     pickle.dump(tracey, file) # WARNING: The pickle module is not secure. Only unpickle data you trust.\n",
    "\n",
    "save_events('data/event_dict.pkl',trace1)\n",
    "\n",
    "with open('data/event_dict.pkl','rb') as file:\n",
    "    trace2_changed = pickle.load(file)\n",
    "\n",
    "\n",
    "trace2_changed[0].shape"
   ]
  },
  {
   "cell_type": "code",
   "execution_count": 54,
   "metadata": {},
   "outputs": [
    {
     "data": {
      "text/plain": [
       "(3, 3)"
      ]
     },
     "execution_count": 54,
     "metadata": {},
     "output_type": "execute_result"
    }
   ],
   "source": [
    "[0,1,2]\n",
    "[3,4,5]\n",
    "[6,7,8]\n",
    "\n",
    "a = np.array([[0,1,2],[3,4,5],[6,7,8]])\n",
    "\n",
    "a.shape "
   ]
  }
 ],
 "metadata": {
  "kernelspec": {
   "display_name": "ssued",
   "language": "python",
   "name": "python3"
  },
  "language_info": {
   "codemirror_mode": {
    "name": "ipython",
    "version": 3
   },
   "file_extension": ".py",
   "mimetype": "text/x-python",
   "name": "python",
   "nbconvert_exporter": "python",
   "pygments_lexer": "ipython3",
   "version": "3.12.2"
  }
 },
 "nbformat": 4,
 "nbformat_minor": 2
}
