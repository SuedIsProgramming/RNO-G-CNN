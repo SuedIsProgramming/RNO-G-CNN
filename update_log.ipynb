{
 "cells": [
  {
   "cell_type": "markdown",
   "metadata": {},
   "source": [
    "# Update Log"
   ]
  },
  {
   "cell_type": "markdown",
   "metadata": {},
   "source": [
    "### 09/22/2024\n",
    "\n",
    "I haven't touched much of this project in a while due to the start of classes. I have been reading over the project to try to refresh a few of the materials that need work. So far I have identified that the next step is to try to get the data set up similar to the CIFAR-10 dataset so that I can utilize a lot of the infrastructure of the CIFAR-10 dataset to undergo machine learning.\n",
    "\n",
    "For each saved trace I should have an associated average SNR label. I should have a dictionary with two entries {data, labels} Where the nth label corresponds to the nth data entry, which itself should be a [eventnum,data]. After this, I plan to bin these arrays and save them into batches.\n",
    "\n",
    "But what should data be? Right now, data is a [4(num_channels),2(t,V),ndata]. And we may need to keep it that way, as the number of data points are inconsistent from the NuRadioMC."
   ]
  },
  {
   "cell_type": "markdown",
   "metadata": {},
   "source": [
    "### 09/29/2024\n",
    "\n",
    "I started working on the bin matrix, I made the `bin_matrix() function, which will automatically set up my data in [4,bins] matrix and has an input \"plotting\" that will print out a heatmap of the matrix.\n",
    "\n",
    "TODO: Finish commenting the function. And I will want to setup a way to do this recursively with all of the data. I also should start looking into how to calculate the mean SNR."
   ]
  },
  {
   "cell_type": "markdown",
   "metadata": {},
   "source": [
    "### 10/7/2024\n",
    "\n",
    "Started work on step4, realized that calculate noise function works with bins. I am now working on the overall saving of these binned matrices + their mean SNR in an orderly fashion. I calculate the SNR by max V / rms noise, however I am not sure if the noise should be from the bins or from the original samples."
   ]
  }
 ],
 "metadata": {
  "language_info": {
   "name": "python"
  }
 },
 "nbformat": 4,
 "nbformat_minor": 2
}
