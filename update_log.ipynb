{
 "cells": [
  {
   "cell_type": "markdown",
   "metadata": {},
   "source": [
    "# Update Log"
   ]
  },
  {
   "cell_type": "markdown",
   "metadata": {},
   "source": [
    "### 09/22/2024\n",
    "\n",
    "I haven't touched much of this project in a while due to the start of classes. I have been reading over the project to try to refresh a few of the materials that need work. So far I have identified that the next step is to try to get the data set up similar to the CIFAR-10 dataset so that I can utilize a lot of the infrastructure of the CIFAR-10 dataset to undergo machine learning.\n",
    "\n",
    "For each saved trace I should have an associated average SNR label. I should have a dictionary with two entries {data, labels} Where the nth label corresponds to the nth data entry, which itself should be a [eventnum,data]. After this, I plan to bin these arrays and save them into batches.\n",
    "\n",
    "But what should data be? Right now, data is a [4(num_channels),2(t,V),ndata]. And we may need to keep it that way, as the number of data points are inconsistent from the NuRadioMC."
   ]
  },
  {
   "cell_type": "markdown",
   "metadata": {},
   "source": [
    "### 09/29/2024\n",
    "\n",
    "I started working on the bin matrix, I made the `bin_matrix() function, which will automatically set up my data in [4,bins] matrix and has an input \"plotting\" that will print out a heatmap of the matrix.\n",
    "\n",
    "TODO: Finish commenting the function. And I will want to setup a way to do this recursively with all of the data. I also should start looking into how to calculate the mean SNR."
   ]
  },
  {
   "cell_type": "markdown",
   "metadata": {},
   "source": [
    "### 10/7/2024\n",
    "\n",
    "Started work on step4, realized that calculate noise function works with bins. I am now working on the overall saving of these binned matrices + their mean SNR in an orderly fashion. I calculate the SNR by max V / rms noise, however I am not sure if the noise should be from the bins or from the original samples."
   ]
  },
  {
   "cell_type": "markdown",
   "metadata": {},
   "source": [
    "16 channels in simstation because of em and hadronic showers and because of direct and refracted ray tracing solutions. Sum everything up to obtain max voltage. \n",
    "\n",
    "Try to look for sum of all channels function.\n",
    "Try to look for noise parameter."
   ]
  },
  {
   "cell_type": "markdown",
   "metadata": {},
   "source": [
    "### 11/2/2024\n",
    "\n",
    "I am looking into all of the different functions of NuRadioMC. I have discovered many useful things such as an integrated hilbert_voltage function, SNR, etc. \n",
    "\n",
    "Although it is not possible to index events and stations and channels. They can be iterated over with the next() function. To restart interation from 0, simply restate the iterable call. Perhaps a python package exists that streamlines this, but for now this is enough.\n",
    "\n",
    "I also discovered that the simstation has raytracing channels, particle channels and id channels separations, which may be useful for future calculations.\n",
    "\n",
    "In the essence of time, and because I believe that the CNN's main objective is to accurately measure the \"REAL\" SNR with noise included, I have decided to utilize the \"SNR\" parameter of the channels.\n",
    "\n",
    "I have started construction of the CIFAR-10 dictionary which will have the shape of {data, SNR}\n",
    "\n",
    "Did a big overhaul of most things.\n",
    "Added new aliases to streamline process:\n",
    "\n",
    "alias gostepsCNN='cd /data/i3home/ssued/RNOGCnn/CNN_steps'\n",
    "alias goCNN='cd /data/i3home/ssued/RNOGCnn'\n",
    "alias runstep1='python /data/i3home/ssued/RNOGCnn/CNN_steps/step1_generate_event_list.py'\n",
    "alias runstep2='python /data/i3home/ssued/tutorials-rnog/plot_sim_event/step2_run_simulation.py'\n",
    "alias runstep3='python /data/i3home/ssued/RNOGCnn/CNN_steps/step3_save_hilbert_and_SNR.py'\n",
    "alias runstep4='/data/i3home/ssued/RNOGCnn/CNN_steps/step4_save_binned_data.py'\n",
    "\n",
    "Also finished up data processing. I decided to use integrated power as it was stated by my mentor that it is similar to SNR for hilbert and because it came prepacked from NuRadioMC.\n",
    "\n",
    "Have to debug step 4 and next step is starting on the CNN\n"
   ]
  },
  {
   "cell_type": "markdown",
   "metadata": {},
   "source": [
    "### 11/3/2024\n",
    "\n",
    "Im basically done with the data processing part. We can begin with data collection, but I will have to make everything much more streamlined and pretty.\n",
    "\n",
    "TO PRESENT:\n",
    "\n",
    "> Wrote aliases to streamline process in my shell, maybe not so useful in condor.\n",
    ">> runstep1, runstep2, runstep3, runstep4\n",
    "\n",
    "> step1: setup simulation\n",
    "> step2: run simulation\n",
    "> step3: Will save dictionary with {mean_integrated_power,data} using functions native to NuRadioMC\n",
    "> step4: Will open the saved dictionary, obtain the integrated power and use pre-built functions bin_matrix and bin_v to bin the voltage\n",
    "which will then be saved to a new: {mean_integrated_power,bin_time,data} dictionary\n",
    "\n",
    "Decided to save integrated power as it was stated that it was similar to SNR for bin hilbert.\n"
   ]
  }
 ],
 "metadata": {
  "language_info": {
   "name": "python"
  }
 },
 "nbformat": 4,
 "nbformat_minor": 2
}
