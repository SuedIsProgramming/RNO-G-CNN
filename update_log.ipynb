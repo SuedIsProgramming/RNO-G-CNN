{
 "cells": [
  {
   "cell_type": "markdown",
   "metadata": {},
   "source": [
    "# Update Log"
   ]
  },
  {
   "cell_type": "markdown",
   "metadata": {},
   "source": [
    "### 09/22/2024\n",
    "\n",
    "I haven't touched much of this project in a while due to the start of classes. I have been reading over the project to try to refresh a few of the materials that need work. So far I have identified that the next step is to try to get the data set up similar to the CIFAR-10 dataset so that I can utilize a lot of the infrastructure of the CIFAR-10 dataset to undergo machine learning.\n",
    "\n",
    "For each saved trace I should have an associated average SNR label. I should have a dictionary with two entries {data, labels} Where the nth label corresponds to the nth data entry, which itself should be a [eventnum,data]. After this, I plan to bin these arrays and save them into batches.\n",
    "\n",
    "But what should data be? Right now, data is a 4 by 2 by ndata. And we may need to keep it that way, as the number of data points are inconsistent from the NuRadioMC"
   ]
  }
 ],
 "metadata": {
  "language_info": {
   "name": "python"
  }
 },
 "nbformat": 4,
 "nbformat_minor": 2
}
