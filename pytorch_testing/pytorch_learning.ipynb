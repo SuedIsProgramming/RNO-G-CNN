{
 "cells": [
  {
   "cell_type": "markdown",
   "metadata": {},
   "source": [
    "Learning Pytorch! Thank you to Daniel Bourke for his 25 hour long course!"
   ]
  },
  {
   "cell_type": "code",
   "execution_count": 69,
   "metadata": {},
   "outputs": [
    {
     "name": "stdout",
     "output_type": "stream",
     "text": [
      "2.4.0+cpu\n"
     ]
    }
   ],
   "source": [
    "import torch\n",
    "import pickle\n",
    "import pandas as pd\n",
    "import numpy as numpy\n",
    "import matplotlib.pyplot as pyplot\n",
    "\n",
    "print(torch.__version__)"
   ]
  },
  {
   "cell_type": "markdown",
   "metadata": {},
   "source": [
    "Intro to tensors"
   ]
  },
  {
   "cell_type": "code",
   "execution_count": 70,
   "metadata": {},
   "outputs": [
    {
     "data": {
      "text/plain": [
       "tensor(7)"
      ]
     },
     "execution_count": 70,
     "metadata": {},
     "output_type": "execute_result"
    }
   ],
   "source": [
    "scalar = torch.tensor(7)\n",
    "scalar"
   ]
  },
  {
   "cell_type": "code",
   "execution_count": 71,
   "metadata": {},
   "outputs": [
    {
     "data": {
      "text/plain": [
       "7"
      ]
     },
     "execution_count": 71,
     "metadata": {},
     "output_type": "execute_result"
    }
   ],
   "source": [
    "scalar.ndim\n",
    "\n",
    "# Get tensor back as Python int\n",
    "\n",
    "scalar.item()"
   ]
  },
  {
   "cell_type": "code",
   "execution_count": 72,
   "metadata": {},
   "outputs": [
    {
     "data": {
      "text/plain": [
       "torch.Size([3, 2])"
      ]
     },
     "execution_count": 72,
     "metadata": {},
     "output_type": "execute_result"
    }
   ],
   "source": [
    "# Testing dimensions\n",
    "\n",
    "testten = torch.tensor([[1,2],\n",
    "                        [4,5],\n",
    "                        [7,8]])\n",
    "\n",
    "# First shape number refers to outer square brackets, the second to the second outer, etc.\n",
    "# Tensors cannot be jagged\n",
    "testten.shape"
   ]
  },
  {
   "cell_type": "markdown",
   "metadata": {},
   "source": [
    "TENSOR/MATRIX in UPPER CASE\n",
    "\n",
    "variables and vectors in lower case\n",
    "\n",
    "size and shape are same thing in pytorch"
   ]
  },
  {
   "cell_type": "code",
   "execution_count": 73,
   "metadata": {},
   "outputs": [
    {
     "name": "stdout",
     "output_type": "stream",
     "text": [
      "tensor([1., 2., 3., 4., 5., 6., 7., 8., 9.]) torch.float32\n",
      "tensor([[1., 2., 3., 4., 5., 6., 7., 8., 9.]])\n",
      "tensor([[1., 2., 3.],\n",
      "        [4., 5., 6.],\n",
      "        [7., 8., 9.]])\n"
     ]
    }
   ],
   "source": [
    "x = torch.arange(1.,10.) # Putting a dot at the end ensures the data type is float\n",
    "print(x, x.dtype)\n",
    "x_newdim = x.reshape(1,9)\n",
    "print(x_newdim) # Notice the new bracket!\n",
    "print(x.reshape(3,3)) # Reshape must have the total number of elements equal to the original."
   ]
  },
  {
   "cell_type": "code",
   "execution_count": 74,
   "metadata": {},
   "outputs": [
    {
     "name": "stdout",
     "output_type": "stream",
     "text": [
      "tensor([[1., 2., 3., 4., 5., 6., 7., 8., 9.]])\n",
      "tensor([[5., 2., 3., 4., 5., 6., 7., 8., 9.]]) tensor([5., 2., 3., 4., 5., 6., 7., 8., 9.])\n"
     ]
    }
   ],
   "source": [
    "z = x.view(1,9) # Changing anything in a view of a tensor, also changes the tensor.\n",
    "print(z)\n",
    "\n",
    "z[:,0] = 5\n",
    "\n",
    "print(z,x)"
   ]
  },
  {
   "cell_type": "code",
   "execution_count": 75,
   "metadata": {},
   "outputs": [
    {
     "name": "stdout",
     "output_type": "stream",
     "text": [
      "tensor([[5., 2., 3., 4., 5., 6., 7., 8., 9.],\n",
      "        [5., 2., 3., 4., 5., 6., 7., 8., 9.],\n",
      "        [5., 2., 3., 4., 5., 6., 7., 8., 9.],\n",
      "        [5., 2., 3., 4., 5., 6., 7., 8., 9.]])\n",
      "tensor([[5., 5., 5., 5.],\n",
      "        [2., 2., 2., 2.],\n",
      "        [3., 3., 3., 3.],\n",
      "        [4., 4., 4., 4.],\n",
      "        [5., 5., 5., 5.],\n",
      "        [6., 6., 6., 6.],\n",
      "        [7., 7., 7., 7.],\n",
      "        [8., 8., 8., 8.],\n",
      "        [9., 9., 9., 9.]])\n"
     ]
    }
   ],
   "source": [
    "x_stackedh = torch.stack([x,x,x,x],dim=0)\n",
    "print(x_stackedh)\n",
    "\n",
    "x_stackedv = torch.stack([x,x,x,x],dim=1)\n",
    "print(x_stackedv)"
   ]
  },
  {
   "cell_type": "code",
   "execution_count": 76,
   "metadata": {},
   "outputs": [
    {
     "name": "stdout",
     "output_type": "stream",
     "text": [
      "torch.Size([1, 9])\n",
      "torch.Size([9])\n"
     ]
    }
   ],
   "source": [
    "print(x_newdim.shape)\n",
    "\n",
    "x_squeezed = torch.squeeze(x_newdim)\n",
    "\n",
    "print(x_squeezed.shape)\n"
   ]
  },
  {
   "cell_type": "code",
   "execution_count": 77,
   "metadata": {},
   "outputs": [
    {
     "name": "stdout",
     "output_type": "stream",
     "text": [
      "dict_keys(['mean_SNR', 'bin_time', 'data'])\n"
     ]
    },
    {
     "data": {
      "text/plain": [
       "device(type='cpu')"
      ]
     },
     "execution_count": 77,
     "metadata": {},
     "output_type": "execute_result"
    }
   ],
   "source": [
    "with open('data/event_dict.pkl', 'rb') as file:\n",
    "    ev_dict = pickle.load(file)\n",
    "\n",
    "print(ev_dict[0].keys())\n",
    "\n",
    "event0 = torch.tensor(ev_dict[0]['data'])\n",
    "\n",
    "event0.device"
   ]
  },
  {
   "cell_type": "code",
   "execution_count": 78,
   "metadata": {},
   "outputs": [
    {
     "data": {
      "text/plain": [
       "tensor(0.1348)"
      ]
     },
     "execution_count": 78,
     "metadata": {},
     "output_type": "execute_result"
    }
   ],
   "source": [
    "x_original = torch.rand(224,224,3)\n",
    "\n",
    "x_original[0,0,0]"
   ]
  },
  {
   "cell_type": "code",
   "execution_count": 79,
   "metadata": {},
   "outputs": [],
   "source": [
    "import torch\n",
    "from torch import nn\n",
    "# First Linear Regression Model\n",
    "\n",
    "class LinearRegressionModel(nn.Module):\n",
    "    def __init__(self):\n",
    "        super().__init__()\n",
    "        self.weights = nn.Parameter(torch.randn(1), requires_grad=True)\n",
    "        self.bias = nn.Parameter(torch.randn(1), requires_grad=True)\n",
    "    def forward(self,x:torch.Tensor):\n",
    "        return self.weights*x + self.bias\n",
    "    \n",
    "model_0 = LinearRegressionModel()"
   ]
  },
  {
   "cell_type": "code",
   "execution_count": 80,
   "metadata": {},
   "outputs": [
    {
     "data": {
      "text/plain": [
       "OrderedDict([('weights', tensor([-1.0081])), ('bias', tensor([-0.5812]))])"
      ]
     },
     "execution_count": 80,
     "metadata": {},
     "output_type": "execute_result"
    }
   ],
   "source": [
    "# Define variables:\n",
    "X = torch.arange(0, 50, dtype=torch.float32)\n",
    "weight = 0.7\n",
    "bias = -1\n",
    "y = weight*X + bias\n",
    "\n",
    "# Create train/test sets:\n",
    "X_train,y_train = X[:40],y[:40]\n",
    "X_test,y_test = X[40:],y[40:]\n",
    "\n",
    "model_0.state_dict()"
   ]
  },
  {
   "cell_type": "code",
   "execution_count": 81,
   "metadata": {},
   "outputs": [
    {
     "name": "stdout",
     "output_type": "stream",
     "text": [
      "tensor([ 1.1150,  2.0968,  3.0786,  4.0604,  5.0421,  6.0239,  7.0057,  7.9875,\n",
      "         8.9692,  9.9510, 10.9328, 11.9146, 12.8964, 13.8781, 14.8599, 15.8417,\n",
      "        16.8235, 17.8052, 18.7870, 19.7688, 20.7506, 21.7323, 22.7141, 23.6959,\n",
      "        24.6777, 25.6594, 26.6412, 27.6230, 28.6048, 29.5865, 30.5683, 31.5501,\n",
      "        32.5319, 33.5136, 34.4954, 35.4772, 36.4590, 37.4408, 38.4225, 39.4043,\n",
      "        40.3861, 41.3679, 42.3496, 43.3314, 44.3132, 45.2950, 46.2767, 47.2585,\n",
      "        48.2403, 49.2221])\n"
     ]
    }
   ],
   "source": [
    "# Inference mode allows you to look at the model without training it:\n",
    "# Can also use torch.no_grad(), however inference mode is preferred.\n",
    "with torch.inference_mode():\n",
    "    y_pred = model(X)\n",
    "    print(y_pred)\n",
    "# Inference mode is called a context manager."
   ]
  },
  {
   "cell_type": "code",
   "execution_count": 82,
   "metadata": {},
   "outputs": [],
   "source": [
    "# We can use a loss function to measure the difference between the predicted and actual values.\n",
    "# * Also called a criterion\n",
    "# * Also called a cost function\n",
    "\n",
    "# The mean absolute error is a common loss function for regression problems. In PyTorch, it is implemented as the L1Loss class.\n",
    "# Setup a loss function:\n",
    "\n",
    "loss_fn = nn.L1Loss()\n",
    "\n",
    "# Stochastic Gradient Descent is a common optimizer for training deep learning models. In PyTorch, it is implemented as the SGD class.\n",
    "# Setup an optimizer:\n",
    "\n",
    "optimizer = torch.optim.SGD(model_0.parameters(), lr=0.001) # lr is the learning rate."
   ]
  },
  {
   "cell_type": "code",
   "execution_count": 87,
   "metadata": {},
   "outputs": [
    {
     "name": "stdout",
     "output_type": "stream",
     "text": [
      "Epoch: 0, Training Loss: 0.2050286829471588, Test Loss: 0.5928424596786499\n",
      "Epoch: 10, Training Loss: 0.1971002072095871, Test Loss: 0.4763418138027191\n",
      "Epoch: 20, Training Loss: 0.2004636824131012, Test Loss: 0.5201879739761353\n",
      "Epoch: 30, Training Loss: 0.19741162657737732, Test Loss: 0.5261598825454712\n",
      "Epoch: 40, Training Loss: 0.19695934653282166, Test Loss: 0.5187339782714844\n",
      "Epoch: 50, Training Loss: 0.19774363934993744, Test Loss: 0.5825079083442688\n",
      "Epoch: 60, Training Loss: 0.19099512696266174, Test Loss: 0.5304784774780273\n",
      "Epoch: 70, Training Loss: 0.20353534817695618, Test Loss: 0.7055025100708008\n",
      "Epoch: 80, Training Loss: 0.20645208656787872, Test Loss: 0.7736232876777649\n",
      "Epoch: 90, Training Loss: 0.2002609521150589, Test Loss: 0.7037029266357422\n",
      "Epoch: 100, Training Loss: 0.19218137860298157, Test Loss: 0.6449030041694641\n",
      "Epoch: 110, Training Loss: 0.17935019731521606, Test Loss: 0.4056764543056488\n",
      "Epoch: 120, Training Loss: 0.1829603612422943, Test Loss: 0.5161272287368774\n",
      "Epoch: 130, Training Loss: 0.18563206493854523, Test Loss: 0.5709034204483032\n",
      "Epoch: 140, Training Loss: 0.18806007504463196, Test Loss: 0.6323550939559937\n",
      "Epoch: 150, Training Loss: 0.19594869017601013, Test Loss: 0.8496063351631165\n",
      "Epoch: 160, Training Loss: 0.17501679062843323, Test Loss: 0.5194090008735657\n",
      "Epoch: 170, Training Loss: 0.18222251534461975, Test Loss: 0.05308399349451065\n",
      "Epoch: 180, Training Loss: 0.18107733130455017, Test Loss: 0.05213279649615288\n",
      "Epoch: 190, Training Loss: 0.1799321323633194, Test Loss: 0.05118236690759659\n"
     ]
    }
   ],
   "source": [
    "# Training loop:\n",
    "\n",
    "# An epoch is one loop through the data.\n",
    "epochs = 200\n",
    "\n",
    "# For storing model performance:\n",
    "epoch_count = []\n",
    "loss_values = []\n",
    "test_loss_values = []\n",
    "\n",
    "# Step 0: Loop through the data\n",
    "\n",
    "for epoch in range(epochs):\n",
    "    # Set the model to training mode\n",
    "    model_0.train() # \n",
    "\n",
    "    # Step 1: Forward pass\n",
    "    y_pred = model_0(X_train)\n",
    "\n",
    "    # Step 2: Calculate loss\n",
    "\n",
    "    loss = loss_fn(y_pred, y_train)\n",
    "\n",
    "    # Step 3: Zero gradients. We need to do this after optimizer.step() because PyTorch accumulates gradients on subsequent backward passes.\n",
    "    optimizer.zero_grad()\n",
    "\n",
    "    # Step 4: Perform backpropagation on the loss with respect to the parameters of the model.\n",
    "    loss.backward()\n",
    "\n",
    "    # Step 5: Step the optimizer (perform gradient descent)\n",
    "    optimizer.step()\n",
    "\n",
    "    # Testing:\n",
    "    model_0.eval()\n",
    "    with torch.inference_mode():\n",
    "        # Step 1: Forward pass\n",
    "        test_pred = model_0(X_test)\n",
    "        # Step 2: Calculate loss\n",
    "        test_loss = loss_fn(test_pred, y_test)\n",
    "\n",
    "    if epoch % 10 == 0:\n",
    "        epoch_count.append(epoch)\n",
    "        loss_values.append(loss)\n",
    "        test_loss_values.append(test_loss)\n",
    "        print(f'Epoch: {epoch}, Training Loss: {loss.item()}, Test Loss: {test_loss.item()}')\n",
    "\n",
    "\n",
    "\n"
   ]
  },
  {
   "cell_type": "code",
   "execution_count": 88,
   "metadata": {},
   "outputs": [
    {
     "data": {
      "text/plain": [
       "[tensor(0.2050, grad_fn=<MeanBackward0>),\n",
       " tensor(0.1971, grad_fn=<MeanBackward0>),\n",
       " tensor(0.2005, grad_fn=<MeanBackward0>),\n",
       " tensor(0.1974, grad_fn=<MeanBackward0>),\n",
       " tensor(0.1970, grad_fn=<MeanBackward0>),\n",
       " tensor(0.1977, grad_fn=<MeanBackward0>),\n",
       " tensor(0.1910, grad_fn=<MeanBackward0>),\n",
       " tensor(0.2035, grad_fn=<MeanBackward0>),\n",
       " tensor(0.2065, grad_fn=<MeanBackward0>),\n",
       " tensor(0.2003, grad_fn=<MeanBackward0>),\n",
       " tensor(0.1922, grad_fn=<MeanBackward0>),\n",
       " tensor(0.1794, grad_fn=<MeanBackward0>),\n",
       " tensor(0.1830, grad_fn=<MeanBackward0>),\n",
       " tensor(0.1856, grad_fn=<MeanBackward0>),\n",
       " tensor(0.1881, grad_fn=<MeanBackward0>),\n",
       " tensor(0.1959, grad_fn=<MeanBackward0>),\n",
       " tensor(0.1750, grad_fn=<MeanBackward0>),\n",
       " tensor(0.1822, grad_fn=<MeanBackward0>),\n",
       " tensor(0.1811, grad_fn=<MeanBackward0>),\n",
       " tensor(0.1799, grad_fn=<MeanBackward0>)]"
      ]
     },
     "execution_count": 88,
     "metadata": {},
     "output_type": "execute_result"
    }
   ],
   "source": [
    "loss_values"
   ]
  },
  {
   "cell_type": "code",
   "execution_count": 95,
   "metadata": {},
   "outputs": [
    {
     "data": {
      "text/plain": [
       "[<matplotlib.lines.Line2D at 0x7f26684b4260>]"
      ]
     },
     "execution_count": 95,
     "metadata": {},
     "output_type": "execute_result"
    },
    {
     "data": {
      "image/png": "[encoded data removed]",
      "text/plain": [
       "<Figure size 640x480 with 1 Axes>"
      ]
     },
     "metadata": {},
     "output_type": "display_data"
    }
   ],
   "source": [
    "import matplotlib.pyplot as plt\n",
    "list(model_0.parameters())\n",
    "\n",
    "plt.plot(epoch_count, torch.tensor(loss_values).numpy(), label='Training Loss')\n",
    "plt.plot(epoch_count, torch.tensor(test_loss_values).numpy(), label='Test Loss')"
   ]
  },
  {
   "cell_type": "code",
   "execution_count": 99,
   "metadata": {},
   "outputs": [],
   "source": [
    "# For saving the model:\n",
    "from pathlib import Path # Interesting python library to handle file paths.\n",
    "\n",
    "MODEL_PATH = Path('models')\n",
    "MODEL_PATH.mkdir(exist_ok=True,parents=True)\n",
    "\n",
    "MODEL_NAME = '01_linear_regression_model.pth'\n",
    "MODEL_SAVE_PATH = MODEL_PATH/MODEL_NAME\n",
    "\n",
    "torch.save(model_0.state_dict(), MODEL_SAVE_PATH)"
   ]
  },
  {
   "cell_type": "code",
   "execution_count": 101,
   "metadata": {},
   "outputs": [
    {
     "name": "stderr",
     "output_type": "stream",
     "text": [
      "/tmp/ipykernel_12637/3027852325.py:4: FutureWarning: You are using `torch.load` with `weights_only=False` (the current default value), which uses the default pickle module implicitly. It is possible to construct malicious pickle data which will execute arbitrary code during unpickling (See https://github.com/pytorch/pytorch/blob/main/SECURITY.md#untrusted-models for more details). In a future release, the default value for `weights_only` will be flipped to `True`. This limits the functions that could be executed during unpickling. Arbitrary objects will no longer be allowed to be loaded via this mode unless they are explicitly allowlisted by the user via `torch.serialization.add_safe_globals`. We recommend you start setting `weights_only=True` for any use case where you don't have full control of the loaded file. Please open an issue on GitHub for any issues related to this experimental feature.\n",
      "  model_0b.load_state_dict(torch.load(MODEL_SAVE_PATH))\n"
     ]
    },
    {
     "data": {
      "text/plain": [
       "<All keys matched successfully>"
      ]
     },
     "execution_count": 101,
     "metadata": {},
     "output_type": "execute_result"
    }
   ],
   "source": [
    "# To load model:\n",
    "\n",
    "model_0b = LinearRegressionModel()\n",
    "model_0b.load_state_dict(torch.load(MODEL_SAVE_PATH))"
   ]
  },
  {
   "cell_type": "markdown",
   "metadata": {},
   "source": [
    "### Putting it all together!"
   ]
  },
  {
   "cell_type": "code",
   "execution_count": 183,
   "metadata": {},
   "outputs": [
    {
     "name": "stdout",
     "output_type": "stream",
     "text": [
      "Using device: cpu\n"
     ]
    }
   ],
   "source": [
    "import torch\n",
    "from torch import nn\n",
    "import matplotlib.pyplot as plt\n",
    "\n",
    "torch.__version__\n",
    "\n",
    "torch.cuda.is_available() # ISSUE!\n",
    "\n",
    "# Setup device agnostic code\n",
    "device = \"cuda\" if torch.cuda.is_available() else \"cpu\"\n",
    "print(f\"Using device: {device}\")"
   ]
  },
  {
   "cell_type": "code",
   "execution_count": 184,
   "metadata": {},
   "outputs": [
    {
     "data": {
      "text/plain": [
       "(tensor([[0.0000],\n",
       "         [0.0200],\n",
       "         [0.0400],\n",
       "         [0.0600],\n",
       "         [0.0800],\n",
       "         [0.1000],\n",
       "         [0.1200],\n",
       "         [0.1400],\n",
       "         [0.1600],\n",
       "         [0.1800]]),\n",
       " tensor([[0.3000],\n",
       "         [0.3140],\n",
       "         [0.3280],\n",
       "         [0.3420],\n",
       "         [0.3560],\n",
       "         [0.3700],\n",
       "         [0.3840],\n",
       "         [0.3980],\n",
       "         [0.4120],\n",
       "         [0.4260]]))"
      ]
     },
     "execution_count": 184,
     "metadata": {},
     "output_type": "execute_result"
    }
   ],
   "source": [
    "# Create weight and bias\n",
    "weight = 0.7\n",
    "bias = 0.3\n",
    "\n",
    "# Create range values\n",
    "start = 0\n",
    "end = 1\n",
    "step = 0.02\n",
    "\n",
    "# Create X and y (features and labels)\n",
    "X = torch.arange(start, end, step).unsqueeze(dim=1) # without unsqueeze, errors will happen later on (shapes within linear layers)\n",
    "y = weight * X + bias \n",
    "X[:10], y[:10]"
   ]
  },
  {
   "cell_type": "code",
   "execution_count": 185,
   "metadata": {},
   "outputs": [
    {
     "data": {
      "text/plain": [
       "(40, 40, 10, 10)"
      ]
     },
     "execution_count": 185,
     "metadata": {},
     "output_type": "execute_result"
    }
   ],
   "source": [
    "# Split data\n",
    "train_split = int(0.8 * len(X))\n",
    "X_train, y_train = X[:train_split], y[:train_split]\n",
    "X_test, y_test = X[train_split:], y[train_split:]\n",
    "\n",
    "len(X_train), len(y_train), len(X_test), len(y_test)"
   ]
  },
  {
   "cell_type": "code",
   "execution_count": 186,
   "metadata": {},
   "outputs": [
    {
     "data": {
      "text/plain": [
       "<matplotlib.collections.PathCollection at 0x7f26668b0770>"
      ]
     },
     "execution_count": 186,
     "metadata": {},
     "output_type": "execute_result"
    },
    {
     "data": {
      "image/png": "[encoded data removed]",
      "text/plain": [
       "<Figure size 640x480 with 1 Axes>"
      ]
     },
     "metadata": {},
     "output_type": "display_data"
    }
   ],
   "source": [
    "# Plot the data\n",
    "\n",
    "plt.scatter(X_train, y_train, label='Training Data')"
   ]
  },
  {
   "cell_type": "code",
   "execution_count": 190,
   "metadata": {},
   "outputs": [
    {
     "data": {
      "text/plain": [
       "OrderedDict([('linear_layer.weight', tensor([[0.7645]])),\n",
       "             ('linear_layer.bias', tensor([0.8300]))])"
      ]
     },
     "execution_count": 190,
     "metadata": {},
     "output_type": "execute_result"
    }
   ],
   "source": [
    "# Build linear model:\n",
    "class LinearRegressionModelV2(nn.Module):\n",
    "    def __init__(self):\n",
    "        super().__init__()\n",
    "        # Use nn.Linear() for creating the model parameters\n",
    "        self.linear_layer = nn.Linear(in_features=1, \n",
    "                                      out_features=1)\n",
    "    \n",
    "    # Define the forward computation (input data x flows through nn.Linear())\n",
    "    def forward(self, x: torch.Tensor) -> torch.Tensor:\n",
    "        return self.linear_layer(x)\n",
    "\n",
    "# Set the manual seed\n",
    "torch.manual_seed(42)\n",
    "model_v2 = LinearRegressionModelV2()\n",
    "\n",
    "model_v2.state_dict() "
   ]
  },
  {
   "cell_type": "code",
   "execution_count": 191,
   "metadata": {},
   "outputs": [
    {
     "data": {
      "text/plain": [
       "LinearRegressionModelV2(\n",
       "  (linear_layer): Linear(in_features=1, out_features=1, bias=True)\n",
       ")"
      ]
     },
     "execution_count": 191,
     "metadata": {},
     "output_type": "execute_result"
    }
   ],
   "source": [
    "next(model_v2.parameters()).device\n",
    "model_v2.to(device)"
   ]
  },
  {
   "cell_type": "code",
   "execution_count": 192,
   "metadata": {},
   "outputs": [],
   "source": [
    "# Create loss function\n",
    "loss_fn = nn.L1Loss()\n",
    "\n",
    "# Create optimizer\n",
    "optimizer = torch.optim.SGD(params=model_v2.parameters(), # optimize newly created model's parameters\n",
    "                            lr=0.01)"
   ]
  },
  {
   "cell_type": "code",
   "execution_count": 198,
   "metadata": {},
   "outputs": [
    {
     "name": "stdout",
     "output_type": "stream",
     "text": [
      "Epoch: 0 | Train loss: 0.0012645035749301314 | Test loss: 0.013801807537674904\n",
      "Epoch: 10 | Train loss: 0.0012645035749301314 | Test loss: 0.013801807537674904\n",
      "Epoch: 20 | Train loss: 0.0012645035749301314 | Test loss: 0.013801807537674904\n",
      "Epoch: 30 | Train loss: 0.0012645035749301314 | Test loss: 0.013801807537674904\n",
      "Epoch: 40 | Train loss: 0.0012645035749301314 | Test loss: 0.013801807537674904\n",
      "Epoch: 50 | Train loss: 0.0012645035749301314 | Test loss: 0.013801807537674904\n",
      "Epoch: 60 | Train loss: 0.0012645035749301314 | Test loss: 0.013801807537674904\n",
      "Epoch: 70 | Train loss: 0.0012645035749301314 | Test loss: 0.013801807537674904\n",
      "Epoch: 80 | Train loss: 0.0012645035749301314 | Test loss: 0.013801807537674904\n",
      "Epoch: 90 | Train loss: 0.0012645035749301314 | Test loss: 0.013801807537674904\n",
      "Epoch: 100 | Train loss: 0.0012645035749301314 | Test loss: 0.013801807537674904\n",
      "Epoch: 110 | Train loss: 0.0012645035749301314 | Test loss: 0.013801807537674904\n",
      "Epoch: 120 | Train loss: 0.0012645035749301314 | Test loss: 0.013801807537674904\n",
      "Epoch: 130 | Train loss: 0.0012645035749301314 | Test loss: 0.013801807537674904\n",
      "Epoch: 140 | Train loss: 0.0012645035749301314 | Test loss: 0.013801807537674904\n",
      "Epoch: 150 | Train loss: 0.0012645035749301314 | Test loss: 0.013801807537674904\n",
      "Epoch: 160 | Train loss: 0.0012645035749301314 | Test loss: 0.013801807537674904\n",
      "Epoch: 170 | Train loss: 0.0012645035749301314 | Test loss: 0.013801807537674904\n",
      "Epoch: 180 | Train loss: 0.0012645035749301314 | Test loss: 0.013801807537674904\n",
      "Epoch: 190 | Train loss: 0.0012645035749301314 | Test loss: 0.013801807537674904\n"
     ]
    }
   ],
   "source": [
    "torch.manual_seed(42)\n",
    "\n",
    "# Set the number of epochs \n",
    "epochs = 200\n",
    "\n",
    "# Put data on the available device\n",
    "# Without this, error will happen (not all model/data on device)\n",
    "X_train = X_train.to(device)\n",
    "X_test = X_test.to(device)\n",
    "y_train = y_train.to(device)\n",
    "y_test = y_test.to(device)\n",
    "\n",
    "for epoch in range(epochs):\n",
    "    ### Training\n",
    "    model_v2.train() # train mode is on by default after construction\n",
    "\n",
    "    # 1. Forward pass\n",
    "    y_pred = model_v2(X_train)\n",
    "\n",
    "    # 2. Calculate loss\n",
    "    loss = loss_fn(y_pred, y_train)\n",
    "\n",
    "    # 3. Zero grad optimizer\n",
    "    optimizer.zero_grad()\n",
    "\n",
    "    # 4. Loss backward\n",
    "    loss.backward()\n",
    "\n",
    "    # 5. Step the optimizer\n",
    "    optimizer.step()\n",
    "\n",
    "    ### Testing\n",
    "    model_v2.eval() # put the model in evaluation mode for testing (inference)\n",
    "    # 1. Forward pass\n",
    "    with torch.inference_mode():\n",
    "        test_pred = model_v2(X_test)\n",
    "    \n",
    "        # 2. Calculate the loss\n",
    "        test_loss = loss_fn(test_pred, y_test)\n",
    "\n",
    "    if epoch % 10 == 0:\n",
    "        print(f\"Epoch: {epoch} | Train loss: {loss} | Test loss: {test_loss}\")"
   ]
  },
  {
   "cell_type": "code",
   "execution_count": 194,
   "metadata": {},
   "outputs": [
    {
     "data": {
      "text/plain": [
       "OrderedDict([('linear_layer.weight', tensor([[0.6968]])),\n",
       "             ('linear_layer.bias', tensor([0.3025]))])"
      ]
     },
     "execution_count": 194,
     "metadata": {},
     "output_type": "execute_result"
    }
   ],
   "source": [
    "model_v2.state_dict()"
   ]
  },
  {
   "cell_type": "code",
   "execution_count": 202,
   "metadata": {},
   "outputs": [
    {
     "data": {
      "image/png": "[encoded data removed]",
      "text/plain": [
       "<Figure size 1000x700 with 1 Axes>"
      ]
     },
     "metadata": {},
     "output_type": "display_data"
    }
   ],
   "source": [
    "def plot_predictions(train_data=X_train, \n",
    "                     train_labels=y_train, \n",
    "                     test_data=X_test, \n",
    "                     test_labels=y_test, \n",
    "                     predictions=None):\n",
    "  \"\"\"\n",
    "  Plots training data, test data and compares predictions.\n",
    "  \"\"\"\n",
    "  plt.figure(figsize=(10, 7))\n",
    "\n",
    "  # Plot training data in blue\n",
    "  plt.scatter(train_data, train_labels, c=\"b\", s=4, label=\"Training data\")\n",
    "  \n",
    "  # Plot test data in green\n",
    "  plt.scatter(test_data, test_labels, c=\"g\", s=4, label=\"Testing data\")\n",
    "\n",
    "  if predictions is not None:\n",
    "    # Plot the predictions in red (predictions were made on the test data)\n",
    "    plt.scatter(test_data, predictions, c=\"r\", s=4, label=\"Predictions\")\n",
    "\n",
    "  # Show the legend\n",
    "  plt.legend(prop={\"size\": 14});\n",
    "\n",
    "with torch.inference_mode():\n",
    "  y_preds = model_v2(X_test)\n",
    "\n",
    "plot_predictions(predictions=y_preds.cpu())"
   ]
  },
  {
   "cell_type": "code",
   "execution_count": 206,
   "metadata": {},
   "outputs": [
    {
     "name": "stderr",
     "output_type": "stream",
     "text": [
      "/tmp/ipykernel_12637/482805765.py:6: FutureWarning: You are using `torch.load` with `weights_only=False` (the current default value), which uses the default pickle module implicitly. It is possible to construct malicious pickle data which will execute arbitrary code during unpickling (See https://github.com/pytorch/pytorch/blob/main/SECURITY.md#untrusted-models for more details). In a future release, the default value for `weights_only` will be flipped to `True`. This limits the functions that could be executed during unpickling. Arbitrary objects will no longer be allowed to be loaded via this mode unless they are explicitly allowlisted by the user via `torch.serialization.add_safe_globals`. We recommend you start setting `weights_only=True` for any use case where you don't have full control of the loaded file. Please open an issue on GitHub for any issues related to this experimental feature.\n",
      "  loaded_model_V2.load_state_dict(torch.load(MODEL_SAVE_PATH))\n"
     ]
    },
    {
     "data": {
      "text/plain": [
       "tensor([[True],\n",
       "        [True],\n",
       "        [True],\n",
       "        [True],\n",
       "        [True],\n",
       "        [True],\n",
       "        [True],\n",
       "        [True],\n",
       "        [True],\n",
       "        [True]])"
      ]
     },
     "execution_count": 206,
     "metadata": {},
     "output_type": "execute_result"
    }
   ],
   "source": [
    "MODEL_NAME = '01_linear_regression_modelv2.pth'\n",
    "MODEL_SAVE_PATH = MODEL_PATH / MODEL_NAME\n",
    "torch.save(obj=model_v2.state_dict(),f=MODEL_SAVE_PATH)\n",
    "\n",
    "loaded_model_V2 = LinearRegressionModelV2()\n",
    "loaded_model_V2.load_state_dict(torch.load(MODEL_SAVE_PATH))\n",
    "\n",
    "loaded_model_V2.to(device)\n",
    "\n",
    "# Evaluate:\n",
    "\n",
    "loaded_model_V2.eval()\n",
    "with torch.inference_mode():\n",
    "    loaded_model_V2_preds = loaded_model_V2(X_test)\n",
    "y_preds == loaded_model_V2_preds"
   ]
  }
 ],
 "metadata": {
  "kernelspec": {
   "display_name": "ssued",
   "language": "python",
   "name": "python3"
  },
  "language_info": {
   "codemirror_mode": {
    "name": "ipython",
    "version": 3
   },
   "file_extension": ".py",
   "mimetype": "text/x-python",
   "name": "python",
   "nbconvert_exporter": "python",
   "pygments_lexer": "ipython3",
   "version": "3.12.2"
  }
 },
 "nbformat": 4,
 "nbformat_minor": 2
}
